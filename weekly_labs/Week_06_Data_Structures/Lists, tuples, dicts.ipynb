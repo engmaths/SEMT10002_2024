{
 "cells": [
  {
   "cell_type": "markdown",
   "id": "6edcf53d-58f2-4352-8a71-89e855968234",
   "metadata": {},
   "source": [
    "# Data Structures - lists, tuples and dicts\n",
    "\n",
    "\n",
    "## Recap\n",
    "\n",
    "So far in this course, you've seen:\n",
    "* 'Basic data types such as ints, floats, booleans and strings.'\n",
    "* Operators (such as >, <, ==) for comparing two values\n",
    "* If, elif and else statements to control which sections of code are run.\n",
    "\n",
    "Today, we will look at new data types for working with sequences of data.\n",
    "\n",
    "## Getting started\n",
    "\n",
    "Either:\n",
    "\n",
    "- Click [this link](https://github.com/engmaths/SEMT10002_2024/blob/main/weekly_labs/Week_06_Data_Structures/Lists%2C%20tuples%2C%20dicts.ipynb) to open this notebook in Google colab.  You'll need to sign in with a Google account before you can run it.  When you do, hit `Ctrl+F9` to check it all runs.\n",
    "\n",
    "or\n",
    "\n",
    "- Download it to your local computer using `git clone https://github.com/engmaths/SEMT10002_2024/Week_06_Data_Structures/` or just use `git pull` to refresh if you've done this already.\n",
    "- Navigate to the subfolder `weekly_labs/Week_06_Data_Structures` and open the notebook `Lists, tuples, dicts.ipynb`.  For example, in Visual Studio Code, use `Ctrl+K Ctrl+O` to open a folder and select the folder just mentioned.  Then you can open the notebook file by clicking on it in the left hand explorer sidebar.\n",
    "\n",
    "## Comprehension Checks\n",
    "\n",
    "The Powerpoint file \"comprehension checks.ppt\" has a number of short code samples for you to review. If you have understood everything in the pre-watch videos, then you should be able to tell what the output of these blocks of code are *without* running them. In pairs, discuss what you think the output is and then check your answer by running the code yourself (all samples are available in comprehension_checks.py). Note you'll need to use comments to control which parts of the code run. If you get all questions correct, then I would suggest you skip the text of the worksheet (as it covers the same material as the videos) and go straight into the exercises. If you get something wrong, please ask your TA to explain it to you, or use menti.com code: 6184 155 to ask for further explanation from myself. Or in pseudo_python code:\n",
    "\n",
    "\n",
    "```python\n",
    "for question in comprehension_checks:\n",
    "    your_ouput = ???\n",
    "    actual_output = run_code()\n",
    "    if your_output == actual_output:\n",
    "        print(\"Well done!\")\n",
    "    else:\n",
    "        ask_for_help()\n",
    "\n",
    "    do_worksheet_exercises()\n",
    "```\n",
    "\n",
    "## Sequences of Data\n",
    "\n",
    "Previously, we've introduced basic data types such as *int*, *boolean* and *string*. These can be used to store a single piece of information. e.g. We might store some data about a robot by writing\n",
    "\n",
    "```python\n",
    "robot_name = \"Martin\"\n",
    "robot_xpos = 0.0\n",
    "robot_ypos = 0.0\n",
    "```\n",
    "\n",
    "If we want a second robot, we could create some more variables- ```robot_name_2 = \"Hemma\"```, ```robot_name_3 = \"Arthur\"```. This is fine when we have small amounts of each variable- but what if we want to create and name 100 robots? \n",
    "\n",
    "Fortunately, Python has built-in data types for working with *sequences* of data, including *list*, *set*, *tuple* and *dictionary*. We'll look at each of these today, starting with the list."
   ]
  },
  {
   "cell_type": "markdown",
   "id": "a33e3f16-b9b3-4469-94d1-8bd820d824b6",
   "metadata": {},
   "source": [
    "## Lists\n",
    "\n",
    "A list is a *mutable*, *ordered* data structure that can store multiple different data types. We can create an empty list by typing \n",
    "\n",
    "```my_list =  list() ``` \n",
    "\n",
    "or \n",
    "\n",
    "```my_list = []```\n",
    "\n",
    "We can also create a list by simply enclosing a list of objects in square brackets. i.e by writing\n"
   ]
  },
  {
   "cell_type": "code",
   "execution_count": 108,
   "id": "ecbd5fae-0cc2-4abe-8889-6be38916d2f3",
   "metadata": {},
   "outputs": [
    {
     "name": "stdout",
     "output_type": "stream",
     "text": [
      "['Martin', 'Hemma', 'Arthur', 'Josh']\n"
     ]
    },
    {
     "data": {
      "text/plain": [
       "list"
      ]
     },
     "execution_count": 108,
     "metadata": {},
     "output_type": "execute_result"
    }
   ],
   "source": [
    "robot_names = [\"Martin\", \"Hemma\", \"Arthur\", \"Josh\"]\n",
    "print(robot_names)\n",
    "type(robot_names)"
   ]
  },
  {
   "cell_type": "markdown",
   "id": "5701ed13-a860-4fd9-90cb-e9ed7295eb19",
   "metadata": {},
   "source": [
    "Each item in a list is called an element and is associated with an index, which denotes the position of that item in the list. It's important to remember that in Python, the first element in a list is at **index 0, not index 1**. \n",
    "\n",
    "<img src=\"https://github.com/engmaths/SEMT10002_2024/blob/main/img/lists_1.png?raw=true\" width=\"40%\">\n",
    "\n",
    "We can access an element in a list by writing the name of the list, followed by square brackets containing the index of the element. i.e To get the first element of our list of robot names, I would write:"
   ]
  },
  {
   "cell_type": "code",
   "execution_count": 5,
   "id": "df754a33-bad2-42ca-a287-d03dc641220a",
   "metadata": {
    "scrolled": true
   },
   "outputs": [
    {
     "name": "stdout",
     "output_type": "stream",
     "text": [
      "Martin\n"
     ]
    }
   ],
   "source": [
    "first_name = robot_names[0]\n",
    "print(first_name)"
   ]
  },
  {
   "cell_type": "markdown",
   "id": "7e64dacd-4eb1-425c-9b7c-a2d7f2bcfb05",
   "metadata": {},
   "source": [
    "Python also allows us to access the elements of a list in reverse. If we write ```my_list[-1]```, we'll get the last element of the list, while ```my_list[-2]``` will get the second to last element of the list.\n",
    "\n",
    "<img src=\"https://github.com/engmaths/SEMT10002_2024/blob/main/img/lists_2.png?raw=true\" width=\"40%\">"
   ]
  },
  {
   "cell_type": "code",
   "execution_count": 53,
   "id": "fb6d3c19-74c5-469b-8093-6d8d10edea88",
   "metadata": {},
   "outputs": [
    {
     "name": "stdout",
     "output_type": "stream",
     "text": [
      "Bob\n"
     ]
    }
   ],
   "source": [
    "last_name = robot_names[-1]\n",
    "print(last_name)"
   ]
  },
  {
   "cell_type": "markdown",
   "id": "1a6fd4f7-da01-4ed3-9156-46768269674b",
   "metadata": {
    "slideshow": {
     "slide_type": "slide"
    }
   },
   "source": [
    "In either case, if we try to access element that does not exist (i.e we try to access element 5 in a list that only has 4 elements), we'll get an error- specifically, an IndexError. "
   ]
  },
  {
   "cell_type": "code",
   "execution_count": 109,
   "id": "0f19d219-b382-4deb-a2a8-fdfd28d1e2a8",
   "metadata": {},
   "outputs": [
    {
     "ename": "IndexError",
     "evalue": "list index out of range",
     "output_type": "error",
     "traceback": [
      "\u001b[0;31m---------------------------------------------------------------------------\u001b[0m",
      "\u001b[0;31mIndexError\u001b[0m                                Traceback (most recent call last)",
      "Input \u001b[0;32mIn [109]\u001b[0m, in \u001b[0;36m<cell line: 1>\u001b[0;34m()\u001b[0m\n\u001b[0;32m----> 1\u001b[0m name \u001b[38;5;241m=\u001b[39m \u001b[43mrobot_names\u001b[49m\u001b[43m[\u001b[49m\u001b[38;5;241;43m5\u001b[39;49m\u001b[43m]\u001b[49m\n",
      "\u001b[0;31mIndexError\u001b[0m: list index out of range"
     ]
    }
   ],
   "source": [
    "name = robot_names[5]"
   ]
  },
  {
   "cell_type": "markdown",
   "id": "a9f62507-30f5-424d-be70-7d366621af17",
   "metadata": {},
   "source": [
    "Just as we can use the index notation to access an element in a list, we can also use it to change the value of that element."
   ]
  },
  {
   "cell_type": "code",
   "execution_count": 55,
   "id": "691b3fa1-0b5e-48a0-b6b1-ff1ccd0fc6b1",
   "metadata": {},
   "outputs": [
    {
     "name": "stdout",
     "output_type": "stream",
     "text": [
      "['Wilbur', 'Bob', 'Bob', 'Bob', 'Martin', 'Hemma', 'Arthur', 'Josh', 'Oscar']\n"
     ]
    }
   ],
   "source": [
    "robot_names[0] = \"Wilbur\"\n",
    "robot_names[-1] = \"Oscar\"\n",
    "print(robot_names)"
   ]
  },
  {
   "cell_type": "markdown",
   "id": "11fa796a-d0b3-4aa1-902a-78d37d0a3018",
   "metadata": {},
   "source": [
    "We can create a sub-list (or slice) from our list by placing a ':' inside the square brackets. For example, to get the first two elements of our list, I would write"
   ]
  },
  {
   "cell_type": "code",
   "execution_count": 110,
   "id": "a89f831e-8f99-4124-bdbd-f3fd30861be3",
   "metadata": {},
   "outputs": [
    {
     "name": "stdout",
     "output_type": "stream",
     "text": [
      "['Martin', 'Hemma']\n"
     ]
    },
    {
     "data": {
      "text/plain": [
       "list"
      ]
     },
     "execution_count": 110,
     "metadata": {},
     "output_type": "execute_result"
    }
   ],
   "source": [
    "first_two_names = robot_names[0:2]\n",
    "print(first_two_names)\n",
    "type(first_two_names)"
   ]
  },
  {
   "cell_type": "markdown",
   "id": "caf0df21-7ede-465e-8444-bf7052a24fbf",
   "metadata": {},
   "source": [
    "Again, we need to note something important here- when we slice a list, the first number is the index of the first element we want, but the second number is the index **after** the element we want. When using the slice notation, we don't need to include a first number (Python will default to zero), a last number (Python will default to the end), and can optionally use reverse indices."
   ]
  },
  {
   "cell_type": "code",
   "execution_count": 57,
   "id": "ba6b42f8-e6cb-4b1c-9f9f-ee90d5034e7c",
   "metadata": {},
   "outputs": [
    {
     "name": "stdout",
     "output_type": "stream",
     "text": [
      "['Wilbur', 'Bob']\n",
      "['Bob', 'Bob', 'Martin', 'Hemma', 'Arthur', 'Josh', 'Oscar']\n",
      "['Wilbur', 'Bob', 'Bob', 'Bob', 'Martin', 'Hemma', 'Arthur']\n",
      "['Josh', 'Oscar']\n"
     ]
    }
   ],
   "source": [
    "print(robot_names[:2])   # Print first two names\n",
    "print(robot_names[2:])   # Print names at index two and beyond\n",
    "print(robot_names[:-2])  # Print all but the last two names\n",
    "print(robot_names[-2:])  # Print the last two names"
   ]
  },
  {
   "cell_type": "markdown",
   "id": "6fbfad69-34cc-406c-9f98-740914345b0c",
   "metadata": {},
   "source": [
    "# Nested Lists\n",
    "\n",
    "The elements of a list in Python do not have to be the same data type- we could for example, write"
   ]
  },
  {
   "cell_type": "code",
   "execution_count": 58,
   "id": "d9901c0f-5b3e-40b3-a55b-5d040cad92d6",
   "metadata": {},
   "outputs": [
    {
     "name": "stdout",
     "output_type": "stream",
     "text": [
      "['Hello', 1, False]\n",
      "<class 'str'> <class 'int'> <class 'bool'>\n"
     ]
    }
   ],
   "source": [
    "my_list = [\"Hello\", 1, False]\n",
    "print(my_list)\n",
    "print(type(my_list[0]), type(my_list[1]), type(my_list[2]))"
   ]
  },
  {
   "cell_type": "markdown",
   "id": "4010241a-496b-415f-9d0d-bec208544c19",
   "metadata": {},
   "source": [
    "This means that it is possible for one list to contain another list as an element. For example, we can write"
   ]
  },
  {
   "cell_type": "code",
   "execution_count": 59,
   "id": "0ee512de-2f0c-4f38-8b26-f7b8d822c586",
   "metadata": {
    "scrolled": true
   },
   "outputs": [
    {
     "name": "stdout",
     "output_type": "stream",
     "text": [
      "[[1, 2], [3, 4]]\n"
     ]
    }
   ],
   "source": [
    "nested_list = [[1, 2], [3, 4]]\n",
    "print(nested_list)"
   ]
  },
  {
   "cell_type": "markdown",
   "id": "d9373fdc-fd47-4cd6-b622-40a1b9d5b14a",
   "metadata": {},
   "source": [
    "Here, our list contains only two elements, both lists. The first of these elements is the list [1, 2], while the second element is the list [3, 4]. Nested lists are often used to represent matrices- the idea being that the first list ([1, 2]) represents the first row of the matrix, while the second list represents the second row of the matrix (and so on..). I.e our nested list is equivalent to the matrix\n",
    "\n",
    "$\n",
    "\\begin{bmatrix}\n",
    "1 & 2 \\\\\n",
    "3 & 4\n",
    "\\end{bmatrix}\n",
    "$\n",
    "\n",
    "To access an element in the outer list, we use the normal syntax- i.e "
   ]
  },
  {
   "cell_type": "code",
   "execution_count": 99,
   "id": "0b9f3473-b684-481b-818a-527383d03d85",
   "metadata": {},
   "outputs": [
    {
     "name": "stdout",
     "output_type": "stream",
     "text": [
      "First element is [1, 2]\n",
      "Second element is [3, 4]\n"
     ]
    }
   ],
   "source": [
    "print(\"First element is \" + str(nested_list[0]))\n",
    "print(\"Second element is \" + str(nested_list[1]))"
   ]
  },
  {
   "cell_type": "markdown",
   "id": "ea61bb68-1f70-4faa-8056-ef5f0a45d735",
   "metadata": {},
   "source": [
    "To access the elements of these lists directly, we can simply use two sets of square brackets. i.e"
   ]
  },
  {
   "cell_type": "code",
   "execution_count": 100,
   "id": "6b505877-d922-4ed2-8ceb-893b2b14a31c",
   "metadata": {},
   "outputs": [
    {
     "name": "stdout",
     "output_type": "stream",
     "text": [
      "Top left is 1\n",
      "Top right is 2\n",
      "Bottom left is 3\n",
      "Bottom right is 4\n"
     ]
    }
   ],
   "source": [
    "print(\"Top left is \" + str(nested_list[0][0]))\n",
    "print(\"Top right is \" + str(nested_list[0][1]))\n",
    "print(\"Bottom left is \" + str(nested_list[1][0]))\n",
    "print(\"Bottom right is \" + str(nested_list[1][1]))"
   ]
  },
  {
   "cell_type": "markdown",
   "id": "0f6854e5-3ecb-4bb0-88e6-6d1713f64dc8",
   "metadata": {},
   "source": [
    "### Exercise 1 - lists\n",
    "\n",
    "1. Make two lists containing the values [1, 4, 9] and [1, 8, 27].\n",
    "2. Double the value of the first element in each list.\n",
    "3. Add the first element of the first list to the last element of the second list.\n",
    "4. Make a nested list that contains both lists."
   ]
  },
  {
   "cell_type": "markdown",
   "id": "23f6abdf-233c-475d-9cad-ec104f90f4ab",
   "metadata": {},
   "source": [
    "## Lists and Loops\n",
    "\n",
    "In week 4, we introduced *for* and *while* loops. The code for a basic for loop looked like:"
   ]
  },
  {
   "cell_type": "code",
   "execution_count": 62,
   "id": "a3031daf-2f3d-46c2-9fde-a2c9280d2431",
   "metadata": {},
   "outputs": [
    {
     "name": "stdout",
     "output_type": "stream",
     "text": [
      "Step\n",
      "ii is 0\n",
      "Step\n",
      "ii is 1\n",
      "Step\n",
      "ii is 2\n",
      "Step\n",
      "ii is 3\n",
      "Step\n",
      "ii is 4\n",
      "Step\n",
      "ii is 5\n",
      "Step\n",
      "ii is 6\n",
      "Step\n",
      "ii is 7\n",
      "Step\n",
      "ii is 8\n",
      "Step\n",
      "ii is 9\n",
      "Finished\n"
     ]
    }
   ],
   "source": [
    "for ii in range(10):\n",
    "    print('Step')\n",
    "    print('ii is', ii)\n",
    "print('Finished')"
   ]
  },
  {
   "cell_type": "markdown",
   "id": "3841d877-a93f-4461-96f1-65442f65efc3",
   "metadata": {},
   "source": [
    "Remembering that Python uses indentation to determine scope. Here, ii is the *loop counter*, keeping track of which iteration we are on. It's very common to use a loop to process the data in a list. For example, we could write:"
   ]
  },
  {
   "cell_type": "code",
   "execution_count": 63,
   "id": "03322649-9d4b-4b4d-801b-ab636b89f8ad",
   "metadata": {},
   "outputs": [
    {
     "name": "stdout",
     "output_type": "stream",
     "text": [
      "robot name is Wilbur\n",
      "robot name is Bob\n",
      "robot name is Bob\n",
      "robot name is Bob\n",
      "robot name is Martin\n",
      "robot name is Hemma\n",
      "robot name is Arthur\n",
      "robot name is Josh\n",
      "robot name is Oscar\n"
     ]
    }
   ],
   "source": [
    "for ii in range(len(robot_names)):\n",
    "    print('robot name is', robot_names[ii])"
   ]
  },
  {
   "cell_type": "markdown",
   "id": "0a5a2c16-dba0-4353-a38d-6a9cc0b45ae5",
   "metadata": {},
   "source": [
    "Here, i've used the built-in function *len* to tell me the length of the list- I could hardcode this as range(4), but it's good practice to avoid hardcoding as that makes my code more robust to things like e.g. the length of the list changing. \n",
    "\n",
    "In fact, the operation of looping through a list is so common that Python has some shorter syntax for acheiving the same thing. Instead of writing the code above, I can also write:"
   ]
  },
  {
   "cell_type": "code",
   "execution_count": 34,
   "id": "ad60305b-343c-4286-9c9f-8d1dffbbd9c9",
   "metadata": {},
   "outputs": [
    {
     "name": "stdout",
     "output_type": "stream",
     "text": [
      "robot name is Wilbur\n",
      "robot name is Hemma\n",
      "robot name is Arthur\n",
      "robot name is Oscar\n"
     ]
    }
   ],
   "source": [
    "for robot_name in robot_names:\n",
    "    print('robot name is', robot_name)"
   ]
  },
  {
   "cell_type": "markdown",
   "id": "e08c8d0e-bf40-403e-9357-8b4741a8d1a7",
   "metadata": {},
   "source": [
    "In this code, robot_name is sequentially assigned the value of each element in the list. I'm able to do this because a *list* is an *iterable* data type. In Python, that means I can iterate over it in a loop. *Tuples* and *Dicts* (which we'll see later) are also iterable data types. This is a really neat way to write a loop (because I don't have to worry about the getting the range right, or assigning robot_name within the loop). However, sometimes it's useful to also get the index of each element as we go through it. Python again helps us out here with the *enumerate* function, as seen below."
   ]
  },
  {
   "cell_type": "code",
   "execution_count": 39,
   "id": "8ac2567e-346a-4e5f-aaf8-5daa71b4f665",
   "metadata": {},
   "outputs": [
    {
     "name": "stdout",
     "output_type": "stream",
     "text": [
      "robot name 0 is Wilbur\n",
      "robot name 1 is Hemma\n",
      "robot name 2 is Arthur\n",
      "robot name 3 is Oscar\n"
     ]
    }
   ],
   "source": [
    "for (ii, robot_name) in enumerate(robot_names):\n",
    "    print('robot name', ii, 'is', robot_name)"
   ]
  },
  {
   "cell_type": "markdown",
   "id": "bc0fcedd-1bb9-470e-b155-dc50fae42138",
   "metadata": {},
   "source": [
    "### Exercise 2 - lists and loops\n",
    "\n",
    "1. The following table contains data from a recent assessment. Make some lists to store this data and then write a loop to calculate the average mark for each question. \n",
    "\n",
    "| Student | Question 1 | Question 2 | Question 3 |\n",
    "| :-: | :-: | :-: | :-: |\n",
    "| Martin | 6 | 1 | 4 |\n",
    "| Arthur | 3 | 8 | 4 |\n",
    "| Hemma | 7 | 4 | 5 |\n",
    "| Josh | 4 | 7 | 3 |\n",
    "\n",
    "2. Write a loop to calculate the sum of the values in 3 x 3 matrices. What is the sum of the values in the matrix below?\n",
    "\n",
    "$\n",
    "\\begin{bmatrix}\n",
    "5 & 3 & 4 \\\\\n",
    "3 & 4 & 2 \\\\\n",
    "4 & 3 & 1\n",
    "\\end{bmatrix}\n",
    "$\n",
    "\n",
    "3. Write a loop that replaces each value in a matrix with its square. i.e the top left value (5) should be replaced with $5^2=25$\n",
    "\n"
   ]
  },
  {
   "cell_type": "markdown",
   "id": "7543c95d-425c-42f5-b218-afa07a3237c9",
   "metadata": {},
   "source": [
    "## List Methods\n",
    "\n",
    "There are a number of helpful built-in functions that we might use when working with lists. We've already seen two of them- *len()*, which will return the length of a list and *enumerate()*, which will turn a list into an iterable containing each element of the list and its index as a tuple. Some other functions we might use with lists are:\n",
    "\n",
    "### Append\n",
    "\n",
    "To add an element to a list, we can use the append method. For example, to add a name to our list of robot names, we could write:\n"
   ]
  },
  {
   "cell_type": "code",
   "execution_count": 43,
   "id": "6780a7de-bc1d-478f-8693-2a951606b6df",
   "metadata": {},
   "outputs": [
    {
     "name": "stdout",
     "output_type": "stream",
     "text": [
      "['Martin', 'Hemma', 'Arthur', 'Josh', 'Bob']\n"
     ]
    }
   ],
   "source": [
    "robot_names.append(\"Bob\")\n",
    "print(robot_names)"
   ]
  },
  {
   "cell_type": "markdown",
   "id": "dbed3a27-f8eb-4316-b47c-a958b3c274ae",
   "metadata": {},
   "source": [
    "By default, append will add an element to the end of the list. If we want to add it somewhere else, we have to instead use the function *insert()*, which takes an index as its first argument."
   ]
  },
  {
   "cell_type": "code",
   "execution_count": 101,
   "id": "2af23f74-3f9d-4c19-b466-8ac50423a195",
   "metadata": {
    "scrolled": true
   },
   "outputs": [
    {
     "name": "stdout",
     "output_type": "stream",
     "text": [
      "['Bob', 'Bob', 'Wilbur', 'Bob', 'Bob', 'Bob', 'Martin', 'Hemma', 'Arthur', 'Josh', 'Oscar']\n"
     ]
    }
   ],
   "source": [
    "robot_names.insert(0, \"Bob\")\n",
    "print(robot_names)\n"
   ]
  },
  {
   "cell_type": "markdown",
   "id": "096b3e1c-9a20-4546-a530-a6ca6bcc8a9e",
   "metadata": {},
   "source": [
    "### Operators\n",
    "\n",
    "We can use certain operators (+, *) with lists. Adding (+) two lists together concatenates them, while multiplying a list by an integer N creates N copies of the list the concatenates them all together. What happens if you multiply two lists together? What happens if you multiply a list by a float? (Try it yourself!)\n",
    "\n",
    "\n"
   ]
  },
  {
   "cell_type": "code",
   "execution_count": 51,
   "id": "f2dad44f-3cfb-4890-ba2a-95c65118f4a6",
   "metadata": {},
   "outputs": [
    {
     "name": "stdout",
     "output_type": "stream",
     "text": [
      "[1, 2, 3, 1, 2, 3]\n",
      "[1, 2, 3, 1, 2, 3, 1, 2, 3, 1, 2, 3, 1, 2, 3]\n"
     ]
    }
   ],
   "source": [
    "list1 = [1, 2, 3]\n",
    "print(list1 + list1)\n",
    "print(5 * list1)"
   ]
  },
  {
   "cell_type": "markdown",
   "id": "efbf5fa0-cdfa-4ce9-8209-ced7c328a63d",
   "metadata": {},
   "source": [
    "### In\n",
    "\n",
    "We can use the *in* keyword to check whether an element exists within a list."
   ]
  },
  {
   "cell_type": "code",
   "execution_count": 83,
   "id": "cdadbee0-801a-40ec-8140-1f098befbb3c",
   "metadata": {},
   "outputs": [
    {
     "name": "stdout",
     "output_type": "stream",
     "text": [
      "True\n",
      "False\n"
     ]
    }
   ],
   "source": [
    "print(\"Martin\" in robot_names)\n",
    "print(\"Errin\" in robot_names)"
   ]
  },
  {
   "cell_type": "markdown",
   "id": "f980e6c1-50f8-4768-b3fe-feddfc1121ad",
   "metadata": {},
   "source": [
    "There are many other useful functions (del, sum, pop, any, all) that you may want to use in your code.\n",
    "\n",
    "| function | effect | sample use | \n",
    "| :-: | :-: | :-: |\n",
    "| del | removes an element from a list | del robot_names[0] |\n",
    "| sum | calculates the sum of all elements in a list | sum([1, 2, 3]) # returns 6 | \n",
    "| any | returns True if any elements of a list are True | any([False, True, False])  # returns True| \n",
    "| all | return True if all elements of a list are True | all([False, True, False) # returns False |\n",
    "| max | returns the greatest element in a list | max([1, 2, 3]) # returns 3 |\n",
    "| min | returns the smallest element in a list | max([1, 2, 3]) # returns 1 |\n",
    "\n",
    "## Summary\n",
    "\n",
    "Lists are a Python data type for storing sequences of data. Python lists are *ordered* - Each element in the list is associated with an index, starting from 0. Python lists are *mutable* - We can access and modify elements (or slices) of a list.  Python lists are *iterable* - we will commonly use a list by looping over (and processing) its elements. We may use nested lists to represent a matrix (or 2D grid). There are many built-in functions (len, enumate, in, and many more) that can help us work with lists. \n",
    "\n",
    "### Exercise - cumulative sum\n",
    "\n",
    "Write some code that given a list of numbers will create a new list where each element is the cumulative sum of numbers in the first list. I.e if we have the list of numbers ```list_of_numbers = [1, 3, 6, 10]```, then our code should create a new list ```cumulative_sum = [1, 4, 10, 16]```\n",
    "\n",
    "### Exercise - square and triangular numbers\n",
    "\n",
    "1. Square numbers are defined as the numbers $n^2$ where $n$ is an integer. Write some code to create a list of all square numbers below 1000. How many are there? What is the largest number below 1000?\n",
    "\n",
    "2. Triangular numbers $T_n$ are defined as the number of objects in an equilateral triangle with side length $n$. They are given by the formula $T_n = n(n+1)/2$.  Write some code to create a list of all triangular numbers below 1000. How many are there? What is the largest number below 1000?\n",
    "\n",
    "3. Write some code to count how many square numbers (below 1000) are also triangular numbers.\n",
    "\n",
    "### Exercise - planetary data\n",
    "\n",
    "| Planet  | Diameter (km) | Mass  | Rotation period |\n",
    "|-----|-----|-----|-----|\n",
    "|Mercury | 4,878           | 0.06   |58.65 (d) | \n",
    "|Venus   | 12,100          | 0.82  | 243 (d) |  \n",
    "|Earth   | 12,756         | 1.00  | 23.934 (h) | \n",
    "|Mars    | 6,794          | 0.11  | 24.623 (h) | \n",
    "|Jupiter | 142,800        | 317.89 | 9.842  (h) | \n",
    "|Saturn  | 120,000        | 95.17 | 10.233 (h) | \n",
    "|Uranus  | 52,400         | 14.56| 16 (h) | \n",
    "|Neptune | 48,400         | 17.24 | 18 (h) | \n",
    "|Pluto   | 2,445          | 0.002 | 6.39 (d) | \n",
    "\n",
    "\n",
    "Planet data taken from: https://www.rmg.co.uk/stories/topics/solar-system-data}\n",
    "\n",
    "1. Write a program that identifies and prints the name and density $\\rho$ (in kg m$^{-3}$) of the planet with the lowest density. Density, $\\rho = \\frac{m}{v}$, where $m$ = mass and $v$ = volume. Assume each planet is a perfect sphere\n",
    "\n",
    "2. Write a program that identifies and outputs the names and rotation periods of planets with a rotation period shorter than Earth's.\n",
    "\n",
    "## Tuples\n",
    "\n",
    "A *tuple* is an ordered sequence of values. Like a list, tuples can contain elements of different types, are ordered, and also iterable. The values in a tuple must be comma separated and contained in round brackets\n"
   ]
  },
  {
   "cell_type": "code",
   "execution_count": 84,
   "id": "47aad998-825c-4edf-98ef-390422194208",
   "metadata": {},
   "outputs": [
    {
     "name": "stdout",
     "output_type": "stream",
     "text": [
      "(1, 1.0, 'one')\n",
      "1\n",
      "4\n",
      "9\n",
      "16\n"
     ]
    }
   ],
   "source": [
    "t = (1, 1.0, 'one')\n",
    "print(t)\n",
    "values = (1, 2, 3, 4)\n",
    "for v in values:\n",
    "    print(v**2)"
   ]
  },
  {
   "cell_type": "markdown",
   "id": "30b35956-ebde-47fb-bb95-dab57c0a793f",
   "metadata": {},
   "source": [
    "A major difference is that tuples are **immutable**, meaning that the values of their elements cannot be changed. If we try to change the value of an element of a tuple, we'll get a Type Error. "
   ]
  },
  {
   "cell_type": "code",
   "execution_count": 85,
   "id": "5c9518a7-a5cb-4e7a-84e1-123733e40675",
   "metadata": {},
   "outputs": [
    {
     "ename": "TypeError",
     "evalue": "'tuple' object does not support item assignment",
     "output_type": "error",
     "traceback": [
      "\u001b[0;31m---------------------------------------------------------------------------\u001b[0m",
      "\u001b[0;31mTypeError\u001b[0m                                 Traceback (most recent call last)",
      "Input \u001b[0;32mIn [85]\u001b[0m, in \u001b[0;36m<cell line: 1>\u001b[0;34m()\u001b[0m\n\u001b[0;32m----> 1\u001b[0m t[\u001b[38;5;241m1\u001b[39m] \u001b[38;5;241m=\u001b[39m \u001b[38;5;241m-\u001b[39m\u001b[38;5;241m1\u001b[39m\n",
      "\u001b[0;31mTypeError\u001b[0m: 'tuple' object does not support item assignment"
     ]
    }
   ],
   "source": [
    "t[1] = -1"
   ]
  },
  {
   "cell_type": "markdown",
   "id": "7c8f0588-cee7-4140-95de-ca90fedcd601",
   "metadata": {},
   "source": [
    "### A quirk with tuples with a single element\n",
    "\n",
    "To create a tuple with only a single element, a comma must be placed after that element.\n",
    "\n",
    "This avoids ambiguities with the use of round brackets to control operator precedence in maths"
   ]
  },
  {
   "cell_type": "code",
   "execution_count": 86,
   "id": "092ec755-e7bb-4ff0-9322-b32608467795",
   "metadata": {},
   "outputs": [
    {
     "name": "stdout",
     "output_type": "stream",
     "text": [
      "<class 'int'>\n",
      "<class 'tuple'>\n"
     ]
    }
   ],
   "source": [
    "t1 = (1)\n",
    "print(type(t1))\n",
    "\n",
    "t2 = (1, )\n",
    "print(type(t2))"
   ]
  },
  {
   "cell_type": "markdown",
   "id": "86f212e6-a17f-4e1d-bfe8-fa164befc7aa",
   "metadata": {},
   "source": []
  },
  {
   "cell_type": "markdown",
   "id": "3cc5265e-247c-42b8-b104-7f3331630d1e",
   "metadata": {},
   "source": [
    "# Dictionaries\n",
    "\n",
    "While lists are great for many tasks, for certain operations they can be quite inefficient. In particular, if we want to check whether a list contains a certain value, we can use the *in* keyword to do this (as we saw above). However, while this is easy to do syntactically, internally, Python has to loop through the entire list, checking every value- for large lists, this can be really slow. Inserting an element into a list is also slow if we aren't adding it to the end. **Dictionaries** are another way we can store collections of objects that overcome some of these issues. \n",
    "\n",
    "In a dictionary, values are indexed by **keys** instead of integers. Keys are defined by the user and can be any immutable data type (strings, ints). We can create a dictionary by writing ```my_dict = {}``` or if we want to pre-allocate some data with the syntax \n",
    "\n",
    "```my_dict = {key1:value1, key2:value2}``` \n",
    "\n",
    "and so on.\n",
    "\n"
   ]
  },
  {
   "cell_type": "code",
   "execution_count": 91,
   "id": "366ef9e9-60bd-4edb-8d8c-48bda69390aa",
   "metadata": {},
   "outputs": [],
   "source": [
    "my_dict = {1: 'Martin', 2: 'Hemma', 3: 'Arthur', 4: 'Josh'}"
   ]
  },
  {
   "cell_type": "markdown",
   "id": "6f529e06-5d27-403a-8496-aeeb31f6a415",
   "metadata": {},
   "source": [
    "We can then access (and update) the values in a dictionary indexing the dictionary with the key. We can also add new key:value pairs by writing ```my_dict[new_key] = new_value```.\n",
    "\n"
   ]
  },
  {
   "cell_type": "code",
   "execution_count": 94,
   "id": "8b9165d3-0497-4827-8c1a-a55726ae0337",
   "metadata": {},
   "outputs": [
    {
     "name": "stdout",
     "output_type": "stream",
     "text": [
      "Wilbur\n",
      "Wilbur\n",
      "Helen\n",
      "{1: 'Wilbur', 2: 'Hemma', 3: 'Arthur', 4: 'Josh', 'One': 'Helen'}\n"
     ]
    }
   ],
   "source": [
    "print(my_dict[1])\n",
    "my_dict[1] = \"Wilbur\"\n",
    "print(my_dict[1])\n",
    "\n",
    "my_dict[\"One\"] = \"Helen\"\n",
    "print(my_dict[\"One\"])\n",
    "print(my_dict)"
   ]
  },
  {
   "cell_type": "markdown",
   "id": "3f2b22a2-50bf-439f-a8d2-748946fe37d0",
   "metadata": {},
   "source": [
    "Just like with lists, we can use the *in* keyword to check whether a certain key is in a dictionary. Note that we must check for the *key*, not the *value* when we do this. "
   ]
  },
  {
   "cell_type": "code",
   "execution_count": 104,
   "id": "4c92ff74-58dd-4d05-8a28-3e5ee6d75466",
   "metadata": {},
   "outputs": [
    {
     "name": "stdout",
     "output_type": "stream",
     "text": [
      "True\n",
      "False\n"
     ]
    }
   ],
   "source": [
    "print(1 in my_dict)\n",
    "print(\"Wilbur\" in my_dict)"
   ]
  },
  {
   "cell_type": "markdown",
   "id": "273fba75-fdc5-4f95-b44a-057c3985b669",
   "metadata": {},
   "source": [
    "If we try to access a value using a key that doesn't exist, we'll get an error."
   ]
  },
  {
   "cell_type": "code",
   "execution_count": 105,
   "id": "68769d68-5a5e-448a-809a-fe27dc814600",
   "metadata": {},
   "outputs": [
    {
     "ename": "KeyError",
     "evalue": "'Wilbur'",
     "output_type": "error",
     "traceback": [
      "\u001b[0;31m---------------------------------------------------------------------------\u001b[0m",
      "\u001b[0;31mKeyError\u001b[0m                                  Traceback (most recent call last)",
      "Input \u001b[0;32mIn [105]\u001b[0m, in \u001b[0;36m<cell line: 1>\u001b[0;34m()\u001b[0m\n\u001b[0;32m----> 1\u001b[0m \u001b[38;5;28mprint\u001b[39m(\u001b[43mmy_dict\u001b[49m\u001b[43m[\u001b[49m\u001b[38;5;124;43m\"\u001b[39;49m\u001b[38;5;124;43mWilbur\u001b[39;49m\u001b[38;5;124;43m\"\u001b[39;49m\u001b[43m]\u001b[49m)\n",
      "\u001b[0;31mKeyError\u001b[0m: 'Wilbur'"
     ]
    }
   ],
   "source": [
    "print(my_dict[\"Wilbur\"])"
   ]
  },
  {
   "cell_type": "markdown",
   "id": "423213c2-defc-499e-84be-943daa460d97",
   "metadata": {},
   "source": [
    "# Dictionary example\n",
    "\n",
    "Let's create a dictionary of country calling codes\n",
    "\n",
    "| Key | Value |\n",
    "| :-: | :-: |\n",
    "| UK | 44 |\n",
    "| Canada | 1 |\n",
    "| Spain | 34 |\n",
    "| Kazakhstan | 7 |"
   ]
  },
  {
   "cell_type": "code",
   "execution_count": 106,
   "id": "3c3dad2a-26b4-4b9e-82c8-19ad56c95a33",
   "metadata": {},
   "outputs": [
    {
     "name": "stdout",
     "output_type": "stream",
     "text": [
      "44\n"
     ]
    }
   ],
   "source": [
    "# creating the dictionary\n",
    "calling_codes = { \"UK\":44, \"Canada\":1, \"Spain\":34, \"Kazakhstan\":7}\n",
    "\n",
    "# let's access the country code for the UK using the key 'UK'\n",
    "print(calling_codes[\"UK\"])"
   ]
  },
  {
   "cell_type": "markdown",
   "id": "6750b15f-9c80-4ab5-a50d-c52541487a28",
   "metadata": {},
   "source": [
    "Dictionaries are iterable, but by default only the keys can be retrieved. To use the values, we need to use the keys to access them in the loop.\n",
    "\n"
   ]
  },
  {
   "cell_type": "code",
   "execution_count": 107,
   "id": "ece2689b-f5df-4268-897e-f3832d2da6b3",
   "metadata": {},
   "outputs": [
    {
     "name": "stdout",
     "output_type": "stream",
     "text": [
      "UK\n",
      "Canada\n",
      "Spain\n",
      "Kazakhstan\n",
      "The code for UK is 44\n",
      "The code for Canada is 1\n",
      "The code for Spain is 34\n",
      "The code for Kazakhstan is 7\n"
     ]
    }
   ],
   "source": [
    "for key in calling_codes:\n",
    "    print(key)\n",
    "\n",
    "for key in calling_codes:\n",
    "    print(\"The code for\", key, \"is\", calling_codes[key])"
   ]
  },
  {
   "cell_type": "code",
   "execution_count": null,
   "id": "dcd71fbb-721e-484e-92db-2aeb60bef232",
   "metadata": {},
   "outputs": [],
   "source": []
  },
  {
   "cell_type": "markdown",
   "id": "0d02af3b-6ac2-4ed0-ad83-b1684b13ae54",
   "metadata": {},
   "source": [
    "### Exercise - Translations\n",
    "\n",
    "I'd like to write some code to automatically translate English sentences into Welsh. The file \"translations.txt\" has some code containing 100 common English words and their translations into Welsh. Can you write some code to translate the following sentences from English into Welsh?\n",
    "\n",
    "1. The boy and girl read a book.\n",
    "2. Please drink water and eat bread.\n",
    "3. The man and woman walk to the city.\n",
    "4. The child is happy and runs.\n",
    "5. The teacher writes on the paper.\n",
    "\n",
    "### Portfolio Exercise\n",
    "\n",
    "Returning to the student data from the previous question, you already have some code to calculate the average and standard deviation for each question. \n",
    "\n",
    "| Student | Question 1 | Question 2 | Question 3 | Question 4 |\n",
    "| :-: | :-: | :-: | :-: | :-: |\n",
    "| Martin | 6 | 1 | 4 | 11 |\n",
    "| Arthur | 3 | 8 | 4 | 15 |\n",
    "| Hemma | 7 | 4 | 5 | 16 |\n",
    "| Josh | 4 | 7 | 3 | 14 |\n",
    "\n",
    "Now, I'd like to turn these set of marks into a set of overall grades for each student. To do that, I'd like to you to write some code to create a new list containing the total marks achieved by each student. i.e for Martin, this would be a total = 6+1+4 = 11. \n",
    "\n",
    "Next, I'd like you to write some code to calculate the mean and standard deviation of the total marks achieved. Recall that the standard deviation of some data is given by:\n",
    "\n",
    "$\\sigma = \\sqrt {\\sum^i_N \\frac{(x_i-\\mu)^2}{N}}$, where $\\mu$ is the mean.\n",
    "\n",
    "In Python, you can calculate a square root using the function ```math.sqrt()```.\n",
    "\n",
    "Next, you should write some code to normalise the marks by subtracting the mean score from each mark. i.e here the mean mark is 14, so Martin's normalised mark should become 11-14=-3. \n",
    "\n",
    "Finally, I'd like to turn these marks into a grade according to the formula:\n",
    "\n",
    "| Normalised Mark | Grade | \n",
    "| :-: | :-: | \n",
    "| mark < -1 * standard deviation | Fail | \n",
    "| -1 * standard deviation <= mark < 0 | C | \n",
    "| 0 <= mark < 1 * standard deviation | B | \n",
    "| 1 * standard deviation < mark | A | \n",
    "\n",
    "Write some code to turn the normalised mark into a grade for each student, storing the results in a *dictionary* with the student name as the key and grade as the value.\n",
    "\n",
    "Write your code in the file assign_grades.py and test by running test_assign_grades.py\n",
    "\n"
   ]
  },
  {
   "cell_type": "markdown",
   "id": "1ade5fd5-9684-4cf3-b4f5-0a5f513948a5",
   "metadata": {},
   "source": [
    "### Bonus Exercise - Traffic following model\n",
    "\n",
    "One way that lists are commonly used in Python is to represent a grid of possible locations (i.e. the squares of a chess board). To represent a 2D grid, we'd normally use a nested list. However, a single list can still be used to represent a 1D grid.\n",
    "\n",
    "Representations like this can be helpful for modelling the flow of traffic along a road. If we want to model a road that has space for 30 cars, we could create a list of length 100, and use the value \"1\" to represent spaces that have cars in them and the value \"0\" to represent empty spaces. \n",
    "\n",
    "In code, this would look like:"
   ]
  },
  {
   "cell_type": "code",
   "execution_count": 145,
   "id": "dc79f6cb-c420-425b-9c8f-ba44d329fb89",
   "metadata": {},
   "outputs": [
    {
     "name": "stdout",
     "output_type": "stream",
     "text": [
      "[1, 0, 0, 0, 0, 0, 0, 0, 0, 0, 0, 0, 0, 0, 0, 0, 0, 0, 0, 0, 0, 0, 0, 0, 0, 0, 0, 0, 0, 0]\n"
     ]
    }
   ],
   "source": [
    "road = list()\n",
    "road_length = 30\n",
    "for i in range(road_length):\n",
    "    road.append(0)\n",
    "road[0] = 1\n",
    "\n",
    "print(road)"
   ]
  },
  {
   "cell_type": "markdown",
   "id": "190d115e-9282-4310-95eb-e85642a48238",
   "metadata": {},
   "source": [
    "Here, we've added a single car to the start of the road. Let's add some code to make our car move along the road, one space at a time. "
   ]
  },
  {
   "cell_type": "code",
   "execution_count": 146,
   "id": "2c86a98b-d7a6-4e7f-a10d-d4049b208b39",
   "metadata": {},
   "outputs": [
    {
     "name": "stdout",
     "output_type": "stream",
     "text": [
      "[0, 1, 0, 0, 0, 0, 0, 0, 0, 0, 0, 0, 0, 0, 0, 0, 0, 0, 0, 0, 0, 0, 0, 0, 0, 0, 0, 0, 0, 0]\n"
     ]
    }
   ],
   "source": [
    "updated_road = list()\n",
    "for space in range(len(road)):\n",
    "    if road[space-1]: #Here, I'm using that 1 evaluates to True in Python and 0 to false.\n",
    "        updated_road.append(1)\n",
    "    else:\n",
    "        updated_road.append(0)\n",
    "print(updated_road)\n",
    "        "
   ]
  },
  {
   "cell_type": "markdown",
   "id": "3c70e1d4-5225-4f7d-bf06-62b223968dfc",
   "metadata": {},
   "source": [
    "If we run the code above in a loop, then our car will move along the road to the right."
   ]
  },
  {
   "cell_type": "code",
   "execution_count": 151,
   "id": "202b3eef-eff3-4c74-8ef2-8ccb35dab840",
   "metadata": {},
   "outputs": [
    {
     "name": "stdout",
     "output_type": "stream",
     "text": [
      "[1, 0, 0, 0, 0, 0, 0, 0, 0, 0, 0, 0, 0, 0, 0, 0, 0, 0, 0, 0, 0, 0, 0, 0, 0, 0, 0, 0, 0, 0]\n",
      "[0, 1, 0, 0, 0, 0, 0, 0, 0, 0, 0, 0, 0, 0, 0, 0, 0, 0, 0, 0, 0, 0, 0, 0, 0, 0, 0, 0, 0, 0]\n",
      "[0, 0, 1, 0, 0, 0, 0, 0, 0, 0, 0, 0, 0, 0, 0, 0, 0, 0, 0, 0, 0, 0, 0, 0, 0, 0, 0, 0, 0, 0]\n",
      "[0, 0, 0, 1, 0, 0, 0, 0, 0, 0, 0, 0, 0, 0, 0, 0, 0, 0, 0, 0, 0, 0, 0, 0, 0, 0, 0, 0, 0, 0]\n",
      "[0, 0, 0, 0, 1, 0, 0, 0, 0, 0, 0, 0, 0, 0, 0, 0, 0, 0, 0, 0, 0, 0, 0, 0, 0, 0, 0, 0, 0, 0]\n",
      "[0, 0, 0, 0, 0, 1, 0, 0, 0, 0, 0, 0, 0, 0, 0, 0, 0, 0, 0, 0, 0, 0, 0, 0, 0, 0, 0, 0, 0, 0]\n",
      "[0, 0, 0, 0, 0, 0, 1, 0, 0, 0, 0, 0, 0, 0, 0, 0, 0, 0, 0, 0, 0, 0, 0, 0, 0, 0, 0, 0, 0, 0]\n",
      "[0, 0, 0, 0, 0, 0, 0, 1, 0, 0, 0, 0, 0, 0, 0, 0, 0, 0, 0, 0, 0, 0, 0, 0, 0, 0, 0, 0, 0, 0]\n",
      "[0, 0, 0, 0, 0, 0, 0, 0, 1, 0, 0, 0, 0, 0, 0, 0, 0, 0, 0, 0, 0, 0, 0, 0, 0, 0, 0, 0, 0, 0]\n",
      "[0, 0, 0, 0, 0, 0, 0, 0, 0, 1, 0, 0, 0, 0, 0, 0, 0, 0, 0, 0, 0, 0, 0, 0, 0, 0, 0, 0, 0, 0]\n",
      "[0, 0, 0, 0, 0, 0, 0, 0, 0, 0, 1, 0, 0, 0, 0, 0, 0, 0, 0, 0, 0, 0, 0, 0, 0, 0, 0, 0, 0, 0]\n"
     ]
    }
   ],
   "source": [
    "from copy import copy\n",
    "import random \n",
    "\n",
    "#This section of code initializes the model\n",
    "road = list()\n",
    "road_length = 30\n",
    "for i in range(road_length):\n",
    "    road.append(0)\n",
    "road[0] = 1\n",
    "\n",
    "print(road)\n",
    "#This section of code updates the model\n",
    "num_iterations = 10\n",
    "for iteration in range(num_iterations):\n",
    "    updated_road = list()\n",
    "    for space in range(len(road)):\n",
    "        if road[space-1]: #Here, I'm using that 1 evaluates to True in Python and 0 to false.\n",
    "            updated_road.append(1)\n",
    "        else:\n",
    "            updated_road.append(0)\n",
    "    print(updated_road)\n",
    "    road = updated_road"
   ]
  },
  {
   "cell_type": "markdown",
   "id": "1cf85ee2-9b97-4f59-adb2-be34e9cac26e",
   "metadata": {},
   "source": [
    "To make this model a bit more useful, we'll need to add some extra cars. Your first task is to change the initialization code to assign cars to the road randomly. Concretely, your code should place a car at an index with probability $p$, where $p$ is a variable that defines how congested your road is. You will probably want to use the built-in Python function random.random(), which will generate a random number between 0 and 1 in your code.\n",
    "\n",
    "Next, we need to make our road updating code a bit more realistic- cars can only move forward if there is an empty space for them to move into. Your second task is to modify the code that updates the model to take this into account.\n",
    "\n",
    "Next, we would like to measure the *flow rate* of our road. Here, this is relatively simple to define- it's the number of cars that moved forward. Modify the update code to calculate the flow rate at each step. \n",
    "\n",
    "Now that you have a simple model of traffic flow, you can explore what happens as you vary the starting density of cars. Can you write some code to find the density that gives (on average) the greatest flow?"
   ]
  },
  {
   "cell_type": "code",
   "execution_count": null,
   "id": "7884a1b9-6708-4742-9c25-56164e0871a3",
   "metadata": {},
   "outputs": [],
   "source": []
  }
 ],
 "metadata": {
  "kernelspec": {
   "display_name": "Python 3 (ipykernel)",
   "language": "python",
   "name": "python3"
  },
  "language_info": {
   "codemirror_mode": {
    "name": "ipython",
    "version": 3
   },
   "file_extension": ".py",
   "mimetype": "text/x-python",
   "name": "python",
   "nbconvert_exporter": "python",
   "pygments_lexer": "ipython3",
   "version": "3.9.10"
  }
 },
 "nbformat": 4,
 "nbformat_minor": 5
}
