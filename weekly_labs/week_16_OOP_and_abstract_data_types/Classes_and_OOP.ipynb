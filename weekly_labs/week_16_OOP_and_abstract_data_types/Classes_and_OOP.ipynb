{
 "cells": [
  {
   "cell_type": "markdown",
   "id": "5441a467-211d-41de-ba98-69d8a499a314",
   "metadata": {},
   "source": [
    "## Getting started\n",
    "\n",
    "Either:\n",
    "\n",
    "- Click [this link](https://colab.research.google.com/github/engmaths/SEMT10002_2024/blob/main/weekly_labs/week_16_OOP_and_abstract_data_types/Classes_and_OOP.ipynb) to open this notebook in Google colab.  You'll need to sign in with a Google account before you can run it.  When you do, hit `Ctrl+F9` to check it all runs.\n",
    "\n",
    "or\n",
    "\n",
    "- Download it to your local computer using `git clone https://github.com/engmaths/SEMT10002_2024` or just use `git pull` to refresh if you've done this already.\n",
    "- Navigate to the subfolder `weekly_labs/Week_16_OOP_and_abstract_data_types/` and open the notebook `Classes_and_OOP.ipynb`.  For example, in Visual Studio Code, use `Ctrl+K Ctrl+O` to open a folder and select the folder just mentioned.  Then you can open the notebook file by clicking on it in the left hand explorer sidebar.\n",
    "\n",
    "<h2> Classes and OOP </h2>\n",
    "\n",
    "We have already seen how we can use functions to improve the correctness and readability of our code. Another tool that we can use to improve the readability of our code (in some cases), is the ability to define *classes*. Defining a class allows us to group variables (often call attributes) and functions (typically called methods) together. In problems where there is a natural grouping like this, this approach can be a powerful and helpful tool. Writing code in this way is often called Object-orientated programming or OOP.\n",
    "\n",
    "For example, imagine that we want to simulate a small swarm of robots. To start with, we want our simulator to be able to model the movement of this swarm of robots. In the functions first approach (often called imperitive) that we've been using thus far, we might achieve this by creating some variables to represent the state of our robot. We could write, for example:"
   ]
  },
  {
   "cell_type": "code",
   "execution_count": 1,
   "id": "b475dd6b-8c16-4aa1-8659-84605450b825",
   "metadata": {},
   "outputs": [],
   "source": [
    "robot1_position = (0, 0)\n",
    "robot1_velocity = (1, 0)\n",
    "\n",
    "robot2_position = (1, 1)\n",
    "robot2_velocity = (0, 1)"
   ]
  },
  {
   "cell_type": "markdown",
   "id": "6b68c992-6ae7-41ea-827f-19f7bfbe728f",
   "metadata": {},
   "source": [
    "This creates two robots for us; one at position (0, 0) with velocity (1, 0) and another at position (1, 1) with speed (0, 1). If we wanted to then update the position of our robots we might use a function like:"
   ]
  },
  {
   "cell_type": "code",
   "execution_count": 3,
   "id": "beb84ae5-b863-430d-9f47-e9bb87012fda",
   "metadata": {},
   "outputs": [
    {
     "name": "stdout",
     "output_type": "stream",
     "text": [
      "(1, 0)\n"
     ]
    }
   ],
   "source": [
    "def move(position, velocity):\n",
    "\tnew_position = (position[0]+velocity[0], position[1]+velocity[1])\n",
    "\treturn new_position\n",
    "\n",
    "robot1_position = move(robot1_position, robot1_velocity)\n",
    "print(robot1_position)"
   ]
  },
  {
   "cell_type": "markdown",
   "id": "e2d61b76-bb9f-496f-9dad-d409f8befe70",
   "metadata": {},
   "source": [
    "In terms of correctness, there's nothing wrong with this code, and readability isn't terrible. What's missing, however, is any sort of connection within the code between the variables associated with the robot- robot1_pos and robot1_vel are only connected by the function call to move- there's nothing stopping me from mistakenly writing, for example, "
   ]
  },
  {
   "cell_type": "code",
   "execution_count": 4,
   "id": "473c411e-b1ec-4376-be5b-981474b0ef29",
   "metadata": {},
   "outputs": [],
   "source": [
    "robot1_position = move(robot1_position, robot2_velocity)"
   ]
  },
  {
   "cell_type": "markdown",
   "id": "131afaf9-3064-461d-b79f-23785be81a47",
   "metadata": {},
   "source": [
    "By using OOP, we can write code that bundles the variables and functions related to our robot together. To re-write this code in an object-orientated manner, we have to first define a class. In this case, we could make a robot class by writing:"
   ]
  },
  {
   "cell_type": "code",
   "execution_count": 5,
   "id": "24a84190-ad6b-46cf-8c8d-751c6232c0fa",
   "metadata": {},
   "outputs": [],
   "source": [
    "class Robot:\n",
    "\tdef __init__(self, initial_x_position, initial_y_position, initial_x_velocity, initial_y_velocity):\n",
    "\t\tself.x = initial_x_position\n",
    "\t\tself.y = initial_y_position\n",
    "\t\tself.velocity_x = initial_x_velocity\n",
    "\t\tself.velocity_y = initial_y_velocity\n",
    "\n",
    "\tdef move(self):\n",
    "\t\tself.x += self.velocity_x\n",
    "\t\tself.y += self.velocity_y"
   ]
  },
  {
   "cell_type": "markdown",
   "id": "156a0bf8-4ecf-49bd-8f63-c1c7c0604354",
   "metadata": {},
   "source": [
    "In the code above, *self* is used to refer to the data and methods defined within the class itself, and any methods defined for a class must have *self* as the first argument. \n",
    "\n",
    "A class is a bit like a blueprint- it describes what variables and functions are associated with an object. But just as a blueprint for a table isn't a table, defining the class doesn't actually make an object. To make a robot object, we have to *instantiate* the class. We do this by writing:"
   ]
  },
  {
   "cell_type": "code",
   "execution_count": 6,
   "id": "234e8058-87aa-47ea-afd1-283571565bdf",
   "metadata": {},
   "outputs": [],
   "source": [
    "robot1 = Robot(0, 0, 1, 0)"
   ]
  },
  {
   "cell_type": "markdown",
   "id": "b61b8807-4b87-4199-904a-a8520732db12",
   "metadata": {},
   "source": [
    "If we want to make multiple robot objects, we simply instantiate the class multiple times."
   ]
  },
  {
   "cell_type": "code",
   "execution_count": 7,
   "id": "b8cbe0dd-d2af-4dc9-b33c-3c7b7ac36464",
   "metadata": {},
   "outputs": [],
   "source": [
    "robot2 = Robot(0, 1, 1, 0)\n",
    "robot3 = Robot(1, 1, 1, 0)"
   ]
  },
  {
   "cell_type": "markdown",
   "id": "b0001e13-4c4c-4c93-ba13-8f2c9c1d9549",
   "metadata": {},
   "source": [
    "When we instantiate a Python class like this, we are essentially causing the *__init__* function from the class definition to run. In this case, this stores the values we have provided as inputs, with the first input becoming the robot's x co-ordinate, and so on. We can access the internal variables associated with a class by using the *dot* notation- i.e."
   ]
  },
  {
   "cell_type": "code",
   "execution_count": 8,
   "id": "389ad09d-654b-43f0-a1c4-c8484fd5d2bd",
   "metadata": {},
   "outputs": [
    {
     "name": "stdout",
     "output_type": "stream",
     "text": [
      "5\n"
     ]
    }
   ],
   "source": [
    "robot1.x = 5\n",
    "print(robot1.x)"
   ]
  },
  {
   "cell_type": "markdown",
   "id": "752198e5-8f0b-4796-bf57-ae639a54d571",
   "metadata": {},
   "source": [
    "will first change the robot's x position to 5 and then print it out. Similarly, we can move the first robot by calling"
   ]
  },
  {
   "cell_type": "code",
   "execution_count": 9,
   "id": "f07e7b09-0554-431a-9675-c90af175306d",
   "metadata": {},
   "outputs": [],
   "source": [
    "robot1.move()"
   ]
  },
  {
   "cell_type": "markdown",
   "id": "286ff7f6-22c5-49ee-bf00-8d00db6c9c53",
   "metadata": {},
   "source": [
    "It's important to note here that this function only update the position of robot1- robot2 and 3 won't be moved unless we also call the move functions for them."
   ]
  },
  {
   "cell_type": "code",
   "execution_count": 10,
   "id": "36c03da8-5d00-4bcf-877b-dc8115a77432",
   "metadata": {},
   "outputs": [
    {
     "name": "stdout",
     "output_type": "stream",
     "text": [
      "Robot 1 position is: 6\n",
      "Robot 2 position is: 0\n",
      "Robot 3 position is: 1\n"
     ]
    }
   ],
   "source": [
    "print(\"Robot 1 position is: %d\" % robot1.x)\n",
    "print(\"Robot 2 position is: %d\" % robot2.x)\n",
    "print(\"Robot 3 position is: %d\" % robot3.x)"
   ]
  },
  {
   "cell_type": "markdown",
   "id": "04b07709-a202-4e2b-8b65-b3f897d13437",
   "metadata": {},
   "source": [
    "To some extent, the choice between imperative and object-orientated programming is a matter of personal preference- most problems can be solved with either approach, and often people will choose the paradigm they are most comfortable with. For me, OOP starts to make sense when there is a natural grouping of variables together *and* I'm likely to need many of these \"groups\". For example, if I wanted to simulate a swarm of 100 robots, then I think the OOP approach would make a lot more sense than imperative- the imperative code could still work, but I think it would take much longer to write and be more prone to errors. If I only wanted to simulate one robot, I'm not sure it would be worth the effort of defining a class. \n",
    "\n",
    "**Exercise 1**: The code below defines some basic vector operations in an imperative style. Re-write the code to use an OOP approach by defining a Vector class and creating methods for calculating the length, sum and dot product of a vector with another vector. Check your code is correct by adapting the test script to work with your OOP code."
   ]
  },
  {
   "cell_type": "code",
   "execution_count": 11,
   "id": "663564ae-946b-4b96-baf5-7d1df5fc098a",
   "metadata": {},
   "outputs": [],
   "source": [
    "import math\n",
    "\n",
    "def vector_length(vector):\n",
    "    return math.sqrt(sum(x ** 2 for x in vector))\n",
    "\n",
    "def vector_addition(vector1, vector2):\n",
    "    return [x + y for x, y in zip(vector1, vector2)]\n",
    "\n",
    "def dot_product(vector1, vector2):\n",
    "    return sum(x * y for x, y in zip(vector1, vector2))\n",
    "\n",
    "def test_vectors():\n",
    "\n",
    "\tvector1 = [3, 4]\n",
    "\tvector2 = [1, 2]\n",
    "\tassert(vector_length(vector1)==5)\n",
    "\tassert(vector_length(vector2))==math.sqrt(5)\n",
    "\tassert(vector_addition(vector1, vector2)==[4, 6])\n",
    "\tassert(dot_product(vector1, vector2)==11)\n",
    "\n",
    "test_vectors()\n"
   ]
  },
  {
   "cell_type": "code",
   "execution_count": null,
   "id": "0f21fb06-2410-4ab1-b89a-e1f9937f87e0",
   "metadata": {},
   "outputs": [],
   "source": [
    "#Your code goes here"
   ]
  },
  {
   "cell_type": "markdown",
   "id": "fc13cadd-7667-44aa-8471-42ad6216269f",
   "metadata": {},
   "source": [
    "<h2> Abstract Data Structures </h2>\n",
    "\n",
    "So far in this course, we've made extensive use of Python's built-in *list* data structure. A list can be used to store multiple values (of the same or different types), and many of the algorithms that we've implemented so far has worked by operating on lists. We've also seen some of Python's other built-in data structures, like *set*, which is like a list, but does not allow duplicate values, or the *dict*, in which each value is associated with a *key*, rather than an *index*, and a numpy *array*, in which all data must be of the same type (i.e all floats, or all 16 bit integers). \n",
    "\n",
    "Each of these data structures has certain advantages and disadvantages- for example, if we want to check whether a list of length N contains the value x, it'll take on average N *operations*, where as if we want to check whether a dictionary with N keys contains the key x, in the best case, it'll only take a single *operation*. If we're writing an algorithm that requires us to repeatedly check whether a value is in a data structure, it'll run much quicker if we use a dictionary rather than a list. "
   ]
  },
  {
   "cell_type": "code",
   "execution_count": 12,
   "id": "30a8ed92-69e6-49b5-9fec-4045a6d6f1e8",
   "metadata": {},
   "outputs": [
    {
     "name": "stdout",
     "output_type": "stream",
     "text": [
      "False\n",
      "Time taken to search in list: 0.308319 seconds\n",
      "False\n",
      "Time taken to search in dict: 0.000045 seconds\n"
     ]
    }
   ],
   "source": [
    "import time\n",
    "\n",
    "# Create a list and a dictionary with 10^6 elements\n",
    "lst = list(range(10**7))\n",
    "dct = {i: None for i in range(10**7)}\n",
    "\n",
    "# Search for an element that doesn't exist\n",
    "search_element = 10**7 + 1\n",
    "\n",
    "# Measure the time taken to search in the list\n",
    "start_time = time.time()\n",
    "print(search_element in lst)\n",
    "end_time = time.time()\n",
    "print(\"Time taken to search in list: %f seconds\" % (end_time - start_time))\n",
    "\n",
    "# Measure the time taken to search in the dictionary\n",
    "start_time = time.time()\n",
    "print(search_element in dct)\n",
    "end_time = time.time()\n",
    "print(\"Time taken to search in dict: %f seconds\" % (end_time - start_time))"
   ]
  },
  {
   "cell_type": "markdown",
   "id": "a8c692d0-0fc6-4456-aa90-be13cae89c28",
   "metadata": {},
   "source": [
    "Running that code on my machine, I find that the list search takes 0.18 seconds, while the dictionary search takes 0.00041 seconds- an almost 500x speed-up (the results may be different on your machine, particularly the first time you run the code- if you see the dict take longer, try running it a few times). The important point to understand here is that our choice of data structure can affect the running time of our code, and as we'll soon see also how hard it is to implement certain algorithms. \n",
    "\n",
    "Going beyond Python's built-in data types, there are many other data types that we could use, each with their own benefits and drawbacks. Today, we'll introduce three new data structures and see how they can be used to simplify the implementation of certain algorithms. Typically, these data structures are not built-in to Python, so we'll first need to write some code for implementing them. "
   ]
  },
  {
   "cell_type": "markdown",
   "id": "b89d69a0-c77f-4e14-b6b2-ae8237833203",
   "metadata": {},
   "source": [
    "<h3> Stacks and Queues </h3>\n",
    "\n",
    "The first new data structure we'll look at is the *stack*. A stack is a collection of elements with only two operations available:\n",
    "\n",
    "1. Push (add an element to the stack)\n",
    "2. Pop (remove  and return the most recently added element)\n",
    "\n",
    "Stacks are often described as Last-In, First-Out (LIFO), as this is the order in which elements are added or removed from the stack. A simple analogy is a stack of physical objects (such as pieces of paper). When I'm given a new piece of paper, I put it on top of the pile. When it's time for me to start processing the pile, I start by removing the elements from the top, one at a time. \n",
    "\n",
    "<img src=\"Lifo_stack.png\" width=\"425\"/> \n",
    "\n",
    "In Python, it's possible to just use a list as a stack (we can use the built-in *pop* and *append* methods), but we can make our code more readable by making a Stack class to represent our new data structure. The following code implements a basic stack:"
   ]
  },
  {
   "cell_type": "code",
   "execution_count": 13,
   "id": "4fed888f-dbda-4a7b-a78d-5ff5bb2907d9",
   "metadata": {},
   "outputs": [
    {
     "name": "stdout",
     "output_type": "stream",
     "text": [
      "Running tests\n",
      "Tests complete\n"
     ]
    }
   ],
   "source": [
    "class Stack:\n",
    "\n",
    "\tdef __init__(self):\n",
    "\t\tself.stack = []\n",
    "\n",
    "\tdef push(self, item):\n",
    "\t\tself.stack.append(item)\n",
    "\n",
    "\tdef pop(self):\n",
    "\t\tif len(self.stack) < 1:\n",
    "\t\t\treturn None\n",
    "\t\treturn self.stack.pop()\n",
    "\n",
    "\tdef is_empty(self):\n",
    "\t\treturn len(self.stack)==0\n",
    "\n",
    "def test_stack():\n",
    "\n",
    "\tprint(\"Running tests\")\n",
    "\tstack = Stack()\n",
    "\tstack.push(1)\n",
    "\tstack.push(2)\n",
    "\tstack.push(3)\n",
    "\tassert stack.is_empty()==False\n",
    "\tassert stack.pop()==3\n",
    "\tassert stack.pop()==2\n",
    "\tassert stack.pop()==1\n",
    "\tassert stack.is_empty()==True \n",
    "\tprint(\"Tests complete\")\n",
    "\n",
    "test_stack()"
   ]
  },
  {
   "cell_type": "markdown",
   "id": "6f2d2f08-e9ac-483a-aac9-66ed50503abf",
   "metadata": {},
   "source": [
    "Here, our initialisation function creates an empty list to represent the stack. We then define the push and pop operations using the built-in append and pop operations. We've also created an additional method, is_empty, to tell us whether the stack is empty or not. "
   ]
  },
  {
   "cell_type": "markdown",
   "id": "19513fa8-dca3-40ae-9111-fdd554058806",
   "metadata": {},
   "source": [
    "Now that we have written some code to represent our abstract data structures, we can use them to write some simple algorithms. The first algorithm we'll look at, is using a stack to reverse a string- for example, if we're given the string \"BANANA\", can we write an algorithm to turn it into \"ANANAB\"? By using a stack, we can do this relatively easily. The key idea is to start with an empty stack and then iterate over the string, adding each letter to the stack as we go. Once we've got to the end of string, we can then build a new string by popping each element of the stack we've made. As a stack is a LIFO data structure, the elements will come out in the reverse order. In code, we can do this by writing:"
   ]
  },
  {
   "cell_type": "code",
   "execution_count": 14,
   "id": "fb653881-c042-4725-b6dc-fe7d1daecaf1",
   "metadata": {},
   "outputs": [
    {
     "name": "stdout",
     "output_type": "stream",
     "text": [
      "BANANA\n",
      "ANANAB\n"
     ]
    }
   ],
   "source": [
    "my_string = \"BANANA\"\n",
    "stack = Stack()\n",
    "\n",
    "for letter in my_string:\n",
    "\tstack.push(letter)\n",
    "\n",
    "reversed_string = ''\n",
    "while not stack.is_empty():\n",
    "\treversed_string+=stack.pop()\n",
    "\n",
    "print(my_string)\n",
    "print(reversed_string)"
   ]
  },
  {
   "cell_type": "markdown",
   "id": "11155c45-ce09-4e18-af5e-0695b53dbc12",
   "metadata": {},
   "source": [
    "Stack-based algorithms are used throughout computer science- one area where they are used is in *parsing* your code before it is executed. In Python (and most other programming languages), we make extensive use of brackets- curly brackets () to call a function or define a tuple, square brackets [] to make a list, or braces {} to make a dict. For our code to be valid syntax, all parentheses must be balanced- in other words, every ```(``` must match with a corresponding ```)```. If not, the code is invalid. For example:"
   ]
  },
  {
   "cell_type": "code",
   "execution_count": 15,
   "id": "bf42b13f-c9c0-49d7-aafb-b45b3f0cd217",
   "metadata": {},
   "outputs": [
    {
     "ename": "SyntaxError",
     "evalue": "invalid syntax (3309553631.py, line 3)",
     "output_type": "error",
     "traceback": [
      "\u001b[0;36m  Input \u001b[0;32mIn [15]\u001b[0;36m\u001b[0m\n\u001b[0;31m    x = ([1, 2], 3) #This is also valid Python code\u001b[0m\n\u001b[0m    ^\u001b[0m\n\u001b[0;31mSyntaxError\u001b[0m\u001b[0;31m:\u001b[0m invalid syntax\n"
     ]
    }
   ],
   "source": [
    "x = (1, 2, 3) #This is valid Python code\n",
    "x = (1, 2\t  #This is invalid Python code\n",
    "x = ([1, 2], 3) #This is also valid Python code\n",
    "x = ([1, 2], []) #This is valid Python code\n",
    "x = ([1, 2], ]) # This is invalid Python code"
   ]
  },
  {
   "cell_type": "markdown",
   "id": "ea388d6a-4268-4c2a-947c-44dcadfdb315",
   "metadata": {},
   "source": [
    "Before your code is executed, the Python interpreter will check to see whether your code only contains balanced parantheses. It'll do this, by using a stack. The basic idea is to go through the string, a character as a time. Each time we come across an opening bracket, we add it to our stack. Each time we come across a closing bracket, we pop the top item off of our stack and check to see if it matches the closing bracket. If it doesn't, then we have unbalanced parantheses. If we go through the entire string, without finding any mismatched parentheses, *and* the stack is empty, then our string has balanced parantheses. \n",
    "\n",
    "**Exercise 2**: Implement an algorithm for checking whether a string contains only balanced parentheses. Your function should take a string as input and return either False (if it's not balanced) or True (if it's balanced)."
   ]
  },
  {
   "cell_type": "code",
   "execution_count": 16,
   "id": "d8347fa4-e992-456a-9320-19268e2d46cd",
   "metadata": {},
   "outputs": [
    {
     "ename": "AssertionError",
     "evalue": "Test case 3 failed",
     "output_type": "error",
     "traceback": [
      "\u001b[0;31m---------------------------------------------------------------------------\u001b[0m",
      "\u001b[0;31mAssertionError\u001b[0m                            Traceback (most recent call last)",
      "Input \u001b[0;32mIn [16]\u001b[0m, in \u001b[0;36m<cell line: 17>\u001b[0;34m()\u001b[0m\n\u001b[1;32m     14\u001b[0m     \u001b[38;5;28;01massert\u001b[39;00m is_balanced(\u001b[38;5;124m\"\u001b[39m\u001b[38;5;124mfor i in range(10):\u001b[39m\u001b[38;5;130;01m\\n\u001b[39;00m\u001b[38;5;130;01m\\t\u001b[39;00m\u001b[38;5;124mprint(i)\u001b[39m\u001b[38;5;124m\"\u001b[39m) \u001b[38;5;241m==\u001b[39m \u001b[38;5;28;01mTrue\u001b[39;00m, \u001b[38;5;124m\"\u001b[39m\u001b[38;5;124mTest case 8 failed\u001b[39m\u001b[38;5;124m\"\u001b[39m\n\u001b[1;32m     15\u001b[0m     \u001b[38;5;28mprint\u001b[39m(\u001b[38;5;124m\"\u001b[39m\u001b[38;5;124mAll test cases passed\u001b[39m\u001b[38;5;124m\"\u001b[39m)\n\u001b[0;32m---> 17\u001b[0m \u001b[43mtest_is_balanced\u001b[49m\u001b[43m(\u001b[49m\u001b[43m)\u001b[49m\n",
      "Input \u001b[0;32mIn [16]\u001b[0m, in \u001b[0;36mtest_is_balanced\u001b[0;34m()\u001b[0m\n\u001b[1;32m      7\u001b[0m \u001b[38;5;28;01massert\u001b[39;00m is_balanced(\u001b[38;5;124m\"\u001b[39m\u001b[38;5;124m()\u001b[39m\u001b[38;5;132;01m{}\u001b[39;00m\u001b[38;5;124m[]\u001b[39m\u001b[38;5;124m\"\u001b[39m) \u001b[38;5;241m==\u001b[39m \u001b[38;5;28;01mTrue\u001b[39;00m, \u001b[38;5;124m\"\u001b[39m\u001b[38;5;124mTest case 1 failed\u001b[39m\u001b[38;5;124m\"\u001b[39m\n\u001b[1;32m      8\u001b[0m \u001b[38;5;28;01massert\u001b[39;00m is_balanced(\u001b[38;5;124m\"\u001b[39m\u001b[38;5;124m(\u001b[39m\u001b[38;5;124m{\u001b[39m\u001b[38;5;124m[]})\u001b[39m\u001b[38;5;124m\"\u001b[39m) \u001b[38;5;241m==\u001b[39m \u001b[38;5;28;01mTrue\u001b[39;00m, \u001b[38;5;124m\"\u001b[39m\u001b[38;5;124mTest case 2 failed\u001b[39m\u001b[38;5;124m\"\u001b[39m\n\u001b[0;32m----> 9\u001b[0m \u001b[38;5;28;01massert\u001b[39;00m is_balanced(\u001b[38;5;124m\"\u001b[39m\u001b[38;5;124m(\u001b[39m\u001b[38;5;124m{\u001b[39m\u001b[38;5;124m[})\u001b[39m\u001b[38;5;124m\"\u001b[39m) \u001b[38;5;241m==\u001b[39m \u001b[38;5;28;01mFalse\u001b[39;00m, \u001b[38;5;124m\"\u001b[39m\u001b[38;5;124mTest case 3 failed\u001b[39m\u001b[38;5;124m\"\u001b[39m\n\u001b[1;32m     10\u001b[0m \u001b[38;5;28;01massert\u001b[39;00m is_balanced(\u001b[38;5;124m\"\u001b[39m\u001b[38;5;124m(\u001b[39m\u001b[38;5;124m{\u001b[39m\u001b[38;5;124m[}\u001b[39m\u001b[38;5;124m\"\u001b[39m) \u001b[38;5;241m==\u001b[39m \u001b[38;5;28;01mFalse\u001b[39;00m, \u001b[38;5;124m\"\u001b[39m\u001b[38;5;124mTest case 4 failed\u001b[39m\u001b[38;5;124m\"\u001b[39m\n\u001b[1;32m     11\u001b[0m \u001b[38;5;28;01massert\u001b[39;00m is_balanced(\u001b[38;5;124m\"\u001b[39m\u001b[38;5;124m\"\u001b[39m) \u001b[38;5;241m==\u001b[39m \u001b[38;5;28;01mTrue\u001b[39;00m, \u001b[38;5;124m\"\u001b[39m\u001b[38;5;124mTest case 5 failed\u001b[39m\u001b[38;5;124m\"\u001b[39m\n",
      "\u001b[0;31mAssertionError\u001b[0m: Test case 3 failed"
     ]
    }
   ],
   "source": [
    "def is_balanced(string):\n",
    "    #Your code goes here\n",
    "\treturn True\n",
    "\n",
    "def test_is_balanced():\n",
    "\n",
    "    assert is_balanced(\"(){}[]\") == True, \"Test case 1 failed\"\n",
    "    assert is_balanced(\"({[]})\") == True, \"Test case 2 failed\"\n",
    "    assert is_balanced(\"({[})\") == False, \"Test case 3 failed\"\n",
    "    assert is_balanced(\"({[}\") == False, \"Test case 4 failed\"\n",
    "    assert is_balanced(\"\") == True, \"Test case 5 failed\"\n",
    "    assert is_balanced(\"({[hello]})\") == True, \"Test case 6 failed\"\n",
    "    assert is_balanced(\"[x**2 for x in range(10)]\") == True, \"Test case 7 failed\"\n",
    "    assert is_balanced(\"for i in range(10):\\n\\tprint(i)\") == True, \"Test case 8 failed\"\n",
    "    print(\"All test cases passed\")\n",
    "\n",
    "test_is_balanced()"
   ]
  },
  {
   "cell_type": "markdown",
   "id": "01bdb92c-80cc-4f33-aa8c-ab174e4d62b9",
   "metadata": {},
   "source": [
    "<h2> Trees and Binary Search </h2>\n",
    "\n",
    "<img src=\"tree.svg\" width=\"425\"/> \n",
    "\n",
    "Another abstract data structure we'll look at today is a *tree*. Trees are a common data structure- probably you are most familiar with a tree structure from the file directory used to organise the files and folders on most computers. A *tree* is used to represent a set of nodes that are connected in some kind of heirarchical relationship. Each node can be connected to many *children*, but only one *parent*, except for the root node, which has no parent. In the image above, the root node is shown in red. It has two children, one with a value of 7, and one with a value of 5. \n",
    "\n",
    "As with the stack and the queue, if we want to use a tree in our Python code, we'll first need to implement it. We can do this by again defining a class to represent the data structure:"
   ]
  },
  {
   "cell_type": "code",
   "execution_count": 22,
   "id": "fa153166-8cc9-4ba1-b5f8-68af5d8e11e1",
   "metadata": {},
   "outputs": [
    {
     "name": "stdout",
     "output_type": "stream",
     "text": [
      "root\n",
      "  child1\n",
      "    grandchild1\n",
      "      greatgrandchild1\n",
      "  child2\n"
     ]
    }
   ],
   "source": [
    "class Tree:\n",
    "\tdef __init__(self, value):\n",
    "\t\tself.value = value\n",
    "\t\tself.children = []\n",
    "\n",
    "\tdef add_child(self, child):\n",
    "\t\tif isinstance(child, Tree):\n",
    "\t\t\tself.children.append(child)\n",
    "\n",
    "\tdef print_tree(self, depth=0):\n",
    "\t\tprint(\"  \" * depth + self.value)\n",
    "\t\tfor child in self.children:\n",
    "\t\t\tchild.print_tree(depth + 1)\n",
    "\n",
    "root = Tree('root')\n",
    "child1 = Tree('child1')\n",
    "root.add_child(child1)\n",
    "child2 = Tree('child2')\n",
    "root.add_child(child2)\n",
    "grandchild1 = Tree('grandchild1')\n",
    "child1.add_child(grandchild1)\n",
    "greatgrandchild1 = Tree('greatgrandchild1')\n",
    "grandchild1.add_child(greatgrandchild1)\n",
    "root.print_tree()"
   ]
  },
  {
   "cell_type": "markdown",
   "id": "814c7aab-2e16-4cf0-933c-80e39666d346",
   "metadata": {},
   "source": [
    "<h3> Binary Search Trees </h3>\n",
    "\n",
    "A common problem we will face is searching for a particular value in a data structure- given a list of N numbers, and a value, x, can you tell me if x is in the list? The simplest approach to this problem is to go through the list element by element, comparing each element to x to see if it matches or not. We can do this in a few lines of code:"
   ]
  },
  {
   "cell_type": "code",
   "execution_count": 23,
   "id": "584b8d8e-fba3-41d6-a39e-daa5eca23bc8",
   "metadata": {},
   "outputs": [
    {
     "name": "stdout",
     "output_type": "stream",
     "text": [
      "False\n"
     ]
    }
   ],
   "source": [
    "def find_val_in_list(search_list, val):\n",
    "\tfor number in search_list:\n",
    "\t\tif number == val:\n",
    "\t\t\treturn True\n",
    "\treturn False\n",
    "\n",
    "my_list = [1, 2, 5, 3, 53, 643, 35]\n",
    "val_to_find = 27\n",
    "print(find_val_in_list(my_list, val_to_find))"
   ]
  },
  {
   "cell_type": "markdown",
   "id": "8796a6dc-bc21-456a-8e55-c14cab267763",
   "metadata": {},
   "source": [
    "This code is correct and fairly readable, but for a list of length N, will take on average N operations to execute- i.e it's O(N) or linear time. We can do better than this by using a *Binary search tree*, which will run in O(log N) or logarithmic time. A binary search tree is a tree structure, with two further constraints:\n",
    "\n",
    "1. Each node in the tree is only allowed two children- conventially called left and right. \n",
    "2. The tree is ordered so that each node is greater than all nodes to the left and smaller than all nodes to the right. \n",
    "\n",
    "<img src=\"Btree.svg\" width=\"425\"/> \n",
    "\n",
    "By using a binary search tree, we can speed up how long it takes to search for a value. The key idea is that we no longer need to check each value in the tree- if the value is less than the current node, we only need to check the subtree to the left. If it's greater than the current node, we only need to check the subtree on the right. On average, this means our search will only take log(N) operations. \n",
    "\n",
    "The code stub below partially defines a class for a binary search tree. We've provided you with an initialisation method, and an insert method. However, the search method hasn't been implemented. This method should check whether a value is in the tree, returning ```True``` if it is and ```False``` if it isn't. A good way to approach this is by using recursion- if the value of the current node matches the value you are searching for, then you return ```True```. If not, then you need to look at either the left or right child- If the value you are looking for is less than the current node, you would check the left child. If the left child doesn't exist, then return ```False```. If it does, then you should return whatever result you get from calling the search method on the left-hand tree.\n",
    "\n",
    "**Exercise 4**: Implement the search method for a Binary Search Tree. You can use the test function test_search to check whether your code is correct. "
   ]
  },
  {
   "cell_type": "code",
   "execution_count": 24,
   "id": "eef41293-b1d5-4024-89e8-47b60af3bc13",
   "metadata": {},
   "outputs": [
    {
     "name": "stdout",
     "output_type": "stream",
     "text": [
      "Running tests\n"
     ]
    },
    {
     "ename": "AssertionError",
     "evalue": "Test 1",
     "output_type": "error",
     "traceback": [
      "\u001b[0;31m---------------------------------------------------------------------------\u001b[0m",
      "\u001b[0;31mAssertionError\u001b[0m                            Traceback (most recent call last)",
      "Input \u001b[0;32mIn [24]\u001b[0m, in \u001b[0;36m<cell line: 59>\u001b[0;34m()\u001b[0m\n\u001b[1;32m     56\u001b[0m \t\u001b[38;5;28;01massert\u001b[39;00m(root\u001b[38;5;241m.\u001b[39msearch(\u001b[38;5;241m10\u001b[39m)\u001b[38;5;241m==\u001b[39m\u001b[38;5;28;01mFalse\u001b[39;00m) , \u001b[38;5;124m\"\u001b[39m\u001b[38;5;124mTest 8\u001b[39m\u001b[38;5;124m\"\u001b[39m\n\u001b[1;32m     57\u001b[0m \t\u001b[38;5;28mprint\u001b[39m(\u001b[38;5;124m\"\u001b[39m\u001b[38;5;124mTests finished\u001b[39m\u001b[38;5;124m\"\u001b[39m)\n\u001b[0;32m---> 59\u001b[0m \u001b[43mtest_search\u001b[49m\u001b[43m(\u001b[49m\u001b[43m)\u001b[49m\n",
      "Input \u001b[0;32mIn [24]\u001b[0m, in \u001b[0;36mtest_search\u001b[0;34m()\u001b[0m\n\u001b[1;32m     46\u001b[0m \troot\u001b[38;5;241m.\u001b[39minsert(val)\n\u001b[1;32m     48\u001b[0m \u001b[38;5;28mprint\u001b[39m(\u001b[38;5;124m\"\u001b[39m\u001b[38;5;124mRunning tests\u001b[39m\u001b[38;5;124m\"\u001b[39m)\n\u001b[0;32m---> 49\u001b[0m \u001b[38;5;28;01massert\u001b[39;00m(root\u001b[38;5;241m.\u001b[39msearch(\u001b[38;5;241m5\u001b[39m)\u001b[38;5;241m==\u001b[39m\u001b[38;5;28;01mTrue\u001b[39;00m), \u001b[38;5;124m\"\u001b[39m\u001b[38;5;124mTest 1\u001b[39m\u001b[38;5;124m\"\u001b[39m\n\u001b[1;32m     50\u001b[0m \u001b[38;5;28;01massert\u001b[39;00m(root\u001b[38;5;241m.\u001b[39msearch(\u001b[38;5;241m8\u001b[39m)\u001b[38;5;241m==\u001b[39m\u001b[38;5;28;01mTrue\u001b[39;00m), \u001b[38;5;124m\"\u001b[39m\u001b[38;5;124mTest 2\u001b[39m\u001b[38;5;124m\"\u001b[39m\n\u001b[1;32m     51\u001b[0m \u001b[38;5;28;01massert\u001b[39;00m(root\u001b[38;5;241m.\u001b[39msearch(\u001b[38;5;241m2\u001b[39m)\u001b[38;5;241m==\u001b[39m\u001b[38;5;28;01mTrue\u001b[39;00m), \u001b[38;5;124m\"\u001b[39m\u001b[38;5;124mTest 3\u001b[39m\u001b[38;5;124m\"\u001b[39m\n",
      "\u001b[0;31mAssertionError\u001b[0m: Test 1"
     ]
    }
   ],
   "source": [
    "class BinarySearchTree:\n",
    "\n",
    "\tdef __init__(self, value):\n",
    "\t\tself.value = value\n",
    "\t\tself.left = None\n",
    "\t\tself.right = None\n",
    "\n",
    "\tdef insert(self, value):\n",
    "\n",
    "\t\tif value < self.value:\n",
    "\t\t\tif self.left is None:\n",
    "\t\t\t\tself.left = BinarySearchTree(value)\n",
    "\t\t\telse:\n",
    "\t\t\t\tself.left.insert(value)\n",
    "\t\telif value > self.value:\n",
    "\t\t\tif self.right is None:\n",
    "\t\t\t\tself.right = BinarySearchTree(value)\n",
    "\t\t\telse:\n",
    "\t\t\t\tself.right.insert(value)\n",
    "\t\telse:\n",
    "\t\t\tprint(\"Error- value is also in Tree\")\n",
    "\n",
    "\tdef search(self, value):\n",
    "\n",
    "        #Your code goes here\n",
    "        \n",
    "\t\treturn False\n",
    "\n",
    "\tdef pretty_print(self, indent=0):\n",
    "\t    if self.right:\n",
    "\t        self.right.pretty_print(indent + 4)\n",
    "\t    print(\" \" * indent + str(self.value))\n",
    "\t    if self.left:\n",
    "\t        self.left.pretty_print(indent + 4)\n",
    "\n",
    "def test_search():\n",
    "\n",
    "\t#Values to store in the binary search tree\n",
    "\tvalues_to_add = [5, 8, 2, 4, 6, 7, 3]\n",
    "\n",
    "\t#Create a root node with the first element of the list\n",
    "\troot = BinarySearchTree(values_to_add[0])\n",
    "\n",
    "\t#Add remaining elements to the tree\n",
    "\tfor val in values_to_add[1:]:\n",
    "\t\troot.insert(val)\n",
    "\n",
    "\tprint(\"Running tests\")\n",
    "\tassert root.search(5)==True, \"Test 1\"\n",
    "\tassert root.search(8)==True, \"Test 2\"\n",
    "\tassert root.search(2)==True, \"Test 3\"\n",
    "\tassert root.search(4)==True, \"Test 4\"\n",
    "\tassert root.search(6)==True, \"Test 5\"\n",
    "\tassert root.search(7)==True, \"Test 6\"\n",
    "\tassert root.search(3)==True, \"Test 7\"\n",
    "\tassert root.search(10)==False , \"Test 8\"\n",
    "\tprint(\"Tests finished\")\n",
    "\n",
    "test_search()"
   ]
  },
  {
   "cell_type": "code",
   "execution_count": null,
   "id": "d574b6a7-8619-44b7-b120-eca7eba89421",
   "metadata": {},
   "outputs": [],
   "source": []
  }
 ],
 "metadata": {
  "kernelspec": {
   "display_name": "Python 3 (ipykernel)",
   "language": "python",
   "name": "python3"
  },
  "language_info": {
   "codemirror_mode": {
    "name": "ipython",
    "version": 3
   },
   "file_extension": ".py",
   "mimetype": "text/x-python",
   "name": "python",
   "nbconvert_exporter": "python",
   "pygments_lexer": "ipython3",
   "version": "3.9.10"
  }
 },
 "nbformat": 4,
 "nbformat_minor": 5
}
