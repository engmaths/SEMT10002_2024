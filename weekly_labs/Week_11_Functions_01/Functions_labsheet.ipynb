{
 "cells": [
  {
   "cell_type": "markdown",
   "id": "cc4b7a62-1db3-4c9c-8804-7feb7348e1d6",
   "metadata": {},
   "source": [
    "# Functions\n",
    "\n",
    "## Recap\n",
    "\n",
    "So far in this course, you've seen:\n",
    "* How to read, process, and store data as either a variable (e.g. as an Integer or String) or in a data structure (i.e List, Dictionary of Tuple).\n",
    "* How to control the sequence of operations in your code with branching (i.e if-then-else statements) or iteration (i.e loops).\n",
    "* How to read and write from files.\n",
    "* How to plot data with matplotlib.\n",
    "\n",
    "Today, we will look at how we can group our code into functions to reduce repetition of code and to improve readability.\n",
    "\n",
    "## Comprehension Checks\n",
    "\n",
    "To check your learning from the pre-watch videos, I've made a separate notebook ([here](https://colab.research.google.com/github/engmaths/SEMT10002_2024/blob/main/weekly_labs/Week_11_Functions_01/FunctionsComprehensionChecks.ipynb) ) with a number of quick comprehension checking exercises. Please run through these first and use the results to guide your learning.\n",
    "\n",
    "\n",
    "## Getting started\n",
    "\n",
    "Either:\n",
    "\n",
    "- Click [this link](https://colab.research.google.com/github/engmaths/SEMT10002_2024/blob/main/weekly_labs/Week_11_Functions_01/Functions_labsheet.ipynb) to open this notebook in Google colab.  You'll need to sign in with a Google account before you can run it.  When you do, hit `Ctrl+F9` to check it all runs.\n",
    "\n",
    "or\n",
    "\n",
    "- Download it to your local computer using `git clone https://github.com/engmaths/SEMT10002_2024` or just use `git pull` to refresh if you've done this already.\n",
    "- Navigate to the subfolder `weekly_labs/Week_11_Functions_01` and open the notebook `Functions_labsheet.ipynb`.  For example, in Visual Studio Code, use `Ctrl+K Ctrl+O` to open a folder and select the folder just mentioned.  Then you can open the notebook file by clicking on it in the left hand explorer sidebar\n",
    "\n",
    "\n",
    "## Function Definition and Syntax\n",
    "\n",
    "Functions are a collection of lines of code that have been grouped together and given a name. We've already used many of the built-in Python functions [such as len(), print(), sum()]. Today we'll look at defining our own custom functions. \n",
    "\n",
    "To define a function we use the *def* keyword, followed by the name of the function, some brackets (empty for now) and finally a colon (:). The lines of code that we want to be executed when we *call* the function are then written on the lines below (and indented one level). For example, a function to print a message could be written as follows:\n"
   ]
  },
  {
   "cell_type": "code",
   "execution_count": null,
   "id": "0700f9d1-1683-48c1-82b8-1b26b78b4f5b",
   "metadata": {},
   "outputs": [],
   "source": [
    "def print_greeting_message():\n",
    "    print(\"This is a greeting message\")"
   ]
  },
  {
   "cell_type": "markdown",
   "id": "afa26009-08c4-4835-91c3-3d68ec049cea",
   "metadata": {},
   "source": [
    "We call the first line (def ...) the function *header* and the lines below the function *body*. \n",
    "\n",
    "Note that running this block of code doesn't do anything- defining a function is a bit like writing a recipe for a cake. It tells us what to do when we want to make the cake, but writing down the recipe by itself won't get us any delicious cake. If we want some cake, we'll have to actually follow the instructions set down in the recipe. In code, we do this by *calling* the function. In Python, we do this by typing the name of the function followed by some brackets ()."
   ]
  },
  {
   "cell_type": "code",
   "execution_count": null,
   "id": "0ec1b048-d685-4934-a685-6c85dacaf223",
   "metadata": {},
   "outputs": [],
   "source": [
    "print_greeting_message()"
   ]
  },
  {
   "cell_type": "markdown",
   "id": "a4a5d566-fa4c-4e34-8433-d90cf18eb43b",
   "metadata": {},
   "source": [
    "As with lists and loops, the code that is part of the function is denoted by indentation. The function definition is considered finished the first time Python encounters a line at the same level of indentation as the definition."
   ]
  },
  {
   "cell_type": "code",
   "execution_count": null,
   "id": "f98698b9-3d2c-4851-8ca6-fd9eee8114e2",
   "metadata": {},
   "outputs": [],
   "source": [
    "def print_longer_greeting_message():\n",
    "    print(\"Calling the function will run this line\")\n",
    "    print(\"and this line\")\n",
    "print(\"but not this line\")\n",
    "\n",
    "print_longer_greeting_message()"
   ]
  },
  {
   "cell_type": "markdown",
   "id": "fba3a461-db0c-4eaa-8d27-3ab0292cadb5",
   "metadata": {},
   "source": [
    "If the output above is surprising to you, discuss with someone on your group, or your TA."
   ]
  },
  {
   "cell_type": "markdown",
   "id": "326411ef-2b9a-48bd-9837-cb3a35969a6d",
   "metadata": {},
   "source": [
    "## Function Inputs and Outputs\n",
    "\n",
    "### Inputs\n",
    "\n",
    "Functions can have inputs and outputs. To define a function with an input, we write the name of the parameter inside the round brackets in the header. If I want to write a function that greets individuals by their name, then I could do so as follows:"
   ]
  },
  {
   "cell_type": "code",
   "execution_count": null,
   "id": "7360274e-b0cc-4a16-a92b-dca33dcde086",
   "metadata": {},
   "outputs": [],
   "source": [
    "def print_greeting(name):\n",
    "    print (\"Hello \", name, \"!\")\n",
    "\n",
    "print_greeting(\"Martin\")\n",
    "print_greeting(\"Arthur\")"
   ]
  },
  {
   "cell_type": "markdown",
   "id": "b9f00296-cb09-4731-a7e7-d606823ec307",
   "metadata": {},
   "source": [
    "If we try to run the function without the correct number of inputs, we'll get an error"
   ]
  },
  {
   "cell_type": "code",
   "execution_count": null,
   "id": "36556bc8-3ac3-4651-b2ec-4471657c8d05",
   "metadata": {},
   "outputs": [],
   "source": [
    "print_greeting()"
   ]
  },
  {
   "cell_type": "code",
   "execution_count": null,
   "id": "1acc298d-9821-444f-9eaa-bbabd66877d0",
   "metadata": {},
   "outputs": [],
   "source": [
    "print_greeting(\"Martin\", \"Arthur\")"
   ]
  },
  {
   "cell_type": "markdown",
   "id": "25698bc7-0b81-439e-a30c-e0911df9008e",
   "metadata": {},
   "source": [
    "### Outputs\n",
    "\n",
    "To give a function an output, we use the keyword *return*. Whatever statement, expression or variable we write after *return* will be output by the function. For example, if we wanted to write a function to square some numbers, we could write:"
   ]
  },
  {
   "cell_type": "code",
   "execution_count": null,
   "id": "e0b3abe4-8754-4c7e-9a1d-8921a0220def",
   "metadata": {},
   "outputs": [],
   "source": [
    "def square_number(number):\n",
    "    return number**2\n",
    "\n",
    "x = square_number(4)\n",
    "print(x)"
   ]
  },
  {
   "cell_type": "markdown",
   "id": "78603b7f-7e92-46b0-a18b-954856311a67",
   "metadata": {},
   "source": [
    "A return statement will not only cause a function to output a value, but also prevent the function from running any further lines. It's a little bit like a *break* statement in a loop. For example, if I had the following function definition:"
   ]
  },
  {
   "cell_type": "code",
   "execution_count": null,
   "id": "84e7e052-5a21-4afa-89a3-dbc484d50d91",
   "metadata": {},
   "outputs": [],
   "source": [
    "def print_sum_of_numbers(numbers):\n",
    "    print(\"Input numbers are:\", numbers)\n",
    "    sum_of_numbers = sum(numbers)\n",
    "    return sum_of_numbers\n",
    "    print(\"Sum of numbers are:\", sum_of_numbers)\n"
   ]
  },
  {
   "cell_type": "markdown",
   "id": "5c223917-4364-49df-bb3e-0f18eb9e92fb",
   "metadata": {},
   "source": [
    "Then the bottom line with *print* on would **never** run as the function will always return before it gets to it."
   ]
  },
  {
   "cell_type": "code",
   "execution_count": null,
   "id": "a31cb940-a2e3-4687-b195-89095045da8c",
   "metadata": {},
   "outputs": [],
   "source": [
    "print_sum_of_numbers([1, 3, 5])"
   ]
  },
  {
   "cell_type": "code",
   "execution_count": null,
   "id": "a3f19887-841a-4c81-94ff-34b9f11c2b60",
   "metadata": {},
   "outputs": [],
   "source": [
    "def print_sum_of_numbers(numbers):\n",
    "    print(\"Input numbers are:\", numbers)\n",
    "    sum_of_numbers = sum(numbers)\n",
    "    print(\"Sum of numbers are:\", sum_of_numbers)\n",
    "    return sum_of_numbers\n",
    "\n",
    "print_sum_of_numbers([1, 3, 5])"
   ]
  },
  {
   "cell_type": "markdown",
   "id": "923ed8ae-add2-4136-af3b-2454ffe6b8e8",
   "metadata": {},
   "source": [
    "A function can have multiple return statements in, but only one will ever run. For example:"
   ]
  },
  {
   "cell_type": "code",
   "execution_count": null,
   "id": "0daf6e77-e4dc-40aa-aef1-14af157126f6",
   "metadata": {},
   "outputs": [],
   "source": [
    "def absolute_value(number):\n",
    "    if number<0:\n",
    "        print(\"Returning negated number\")\n",
    "        return -number\n",
    "    print(\"Returning un-negated number\")\n",
    "    return number\n",
    "\n",
    "print(absolute_value(-10))\n",
    "print(absolute_value(10))"
   ]
  },
  {
   "cell_type": "markdown",
   "id": "f00f101f-30c5-4db3-87a4-147508d3dee2",
   "metadata": {},
   "source": [
    "## Exercise 1\n",
    "\n",
    "1. Write a function to convert a temperature given in Fahrenheit into a temperature in Celsius. You can do this with the formula $T_{Celsius} = (5/9) * (T_{Fahrenheit} - 32)$\n",
    "\n",
    "2. Write a function that takes two strings as inputs, reverses them both and then concatenates them. For example, the inputs \"Ben\" and \"Bill\" should lead to output \"nEBlliB\". We can quickly reverse a string in Python by using the fact that a string is just a list of characters, and remembering that we can reverse a list by using the slice notation- reversed_list = list[::-1].\n",
    "\n",
    "3. Write a function that checks whether a list of numbers contains any primes. If the list has any primes, it should return \"True\". Otherwise, it should return False."
   ]
  },
  {
   "cell_type": "code",
   "execution_count": 20,
   "id": "d364e86f",
   "metadata": {},
   "outputs": [
    {
     "data": {
      "text/plain": [
       "True"
      ]
     },
     "execution_count": 20,
     "metadata": {},
     "output_type": "execute_result"
    }
   ],
   "source": [
    "def convert_f_to_c(temp):\n",
    "    return (5/9)*(temp-32)\n",
    "\n",
    "def reverse_and_concat(string1, string2):\n",
    "    string1_reversed = string1[::-1]\n",
    "    string2_reversed = string2[::-1]\n",
    "    return string1_reversed+string2_reversed\n",
    "\n",
    "\n",
    "\n",
    "def is_prime(num):\n",
    "    if num == 1:\n",
    "        return False\n",
    "    for i in range(2,num):\n",
    "        if num%i == 0:\n",
    "            return False\n",
    "    return True\n",
    "\n",
    "\n",
    "def contains_primes(nums):\n",
    "    for num in nums:\n",
    "        if is_prime(num):\n",
    "            return True\n",
    "    return False\n",
    "\n",
    "\n",
    "\n",
    "contains_primes([1,4,6,8,11])"
   ]
  },
  {
   "cell_type": "markdown",
   "id": "4916c631-e7d2-480a-929f-08440f6676d8",
   "metadata": {},
   "source": [
    "## Functions with Multiple Inputs and Outputs\n",
    "\n",
    "### Inputs\n",
    "\n",
    "A function may have more than one input. When we define a function, the variables defined in the header are called *parameters*. Parameters don't have a value when they are defined- we're just telling the program that we want to have certain variables available to us as inputs. To create a function with multiple inputs, we simply add more than one parameter in the header. For example:"
   ]
  },
  {
   "cell_type": "code",
   "execution_count": null,
   "id": "50dd11b1-99b8-4bd0-b107-e5b7278d1c67",
   "metadata": {},
   "outputs": [],
   "source": [
    "def add_two_numbers(number1, number2):\n",
    "    return number1 + number2\n",
    "\n",
    "print(add_two_numbers(1, 2))"
   ]
  },
  {
   "cell_type": "markdown",
   "id": "df625c26-8c81-4ec8-aeb5-056b156dbb77",
   "metadata": {},
   "source": [
    "When we call a function, we provide it with *arguments*. When we call a function, the value of each argument is assigned to a parameter. Here, we are using *positional* parameters, so the assignment is determined by ordering-the first argument is assigned to the first parameter and so on."
   ]
  },
  {
   "cell_type": "code",
   "execution_count": null,
   "id": "6030f429-7fb0-4e5d-be39-3ebd74b26699",
   "metadata": {},
   "outputs": [],
   "source": [
    "def print_two_inputs(input1, input2):\n",
    "    print(\"Input 1 is\", input1)\n",
    "    print(\"Input 2 is\", input2)\n",
    "\n",
    "print_two_inputs(\"Hi\", \"Bye\")"
   ]
  },
  {
   "cell_type": "markdown",
   "id": "b21337d0-08f0-44da-bf6d-dd973f3ee77d",
   "metadata": {},
   "source": [
    "As an alternative to this, when we call the function, we can use the names of the parameters to overwrite this ordering."
   ]
  },
  {
   "cell_type": "code",
   "execution_count": null,
   "id": "7eca966c-3b33-44fb-9cb6-db7dc706af4c",
   "metadata": {},
   "outputs": [],
   "source": [
    "print_two_inputs(input2=\"Bye\", input1=\"Hi\")"
   ]
  },
  {
   "cell_type": "markdown",
   "id": "e5f23b39-d592-4e29-85fd-3004a6c31c9a",
   "metadata": {},
   "source": [
    "Python also lets us provide default values for parameters. This makes the input *optional* -if nothing is provided, the function will use the default. Parameters that have been given a default value are known as *keyword* parameters."
   ]
  },
  {
   "cell_type": "code",
   "execution_count": null,
   "id": "c0e7d1d9-796a-4818-bf22-bdb672eb0509",
   "metadata": {},
   "outputs": [],
   "source": [
    "def print_three_inputs(input1, input2, input3=\"Wait\"):\n",
    "    print(\"Input 1 is\", input1)\n",
    "    print(\"Input 2 is\", input2)\n",
    "    print(\"Input 3 is\", input3)\n",
    "\n",
    "print_three_inputs(\"Hello\", \"My\", \"Name\")"
   ]
  },
  {
   "cell_type": "code",
   "execution_count": null,
   "id": "4f2c6424-e19b-47f8-9291-02c58c6fb843",
   "metadata": {},
   "outputs": [],
   "source": [
    "print_three_inputs(\"Hello\", \"My\")"
   ]
  },
  {
   "cell_type": "markdown",
   "id": "3866d45d-579e-4bff-9e30-e99a3fbbd636",
   "metadata": {},
   "source": [
    "While it's fine to have functions that use both positional and keyword parameters, the keyword parameters must always come *after* the positional ones. The code below, for example, will cause an error."
   ]
  },
  {
   "cell_type": "code",
   "execution_count": null,
   "id": "fd79c0cc-6add-402f-8690-4c6c7055a268",
   "metadata": {},
   "outputs": [],
   "source": [
    "def print_four_inputs(input1=\"default\", input2, input3, input4):"
   ]
  },
  {
   "cell_type": "markdown",
   "id": "07ac1d6c-3f75-49f6-b587-eaf6714783a6",
   "metadata": {},
   "source": [
    "Finally, in some situations, we might not want to specify the number of inputs a function has in advance. We can handle this situation in Python by using the unpacking operator *. If I define a function as below:"
   ]
  },
  {
   "cell_type": "code",
   "execution_count": null,
   "id": "2520da2c-e0bc-4cd2-a989-d66fd482b815",
   "metadata": {},
   "outputs": [],
   "source": [
    "def print_any_number_of_inputs(*inputs):\n",
    "    print(type(inputs))\n",
    "    print(inputs)\n",
    "\n",
    "    for n, n_input in enumerate(inputs):\n",
    "        print(\"Input\", n, \"is\", n_input)\n"
   ]
  },
  {
   "cell_type": "markdown",
   "id": "5b9dd74f-c651-4996-a9d8-6cc26a60ea1f",
   "metadata": {},
   "source": [
    "Then however many inputs I provide, they will be turned into a tuple."
   ]
  },
  {
   "cell_type": "code",
   "execution_count": null,
   "id": "342b8f6c-9f49-41fa-8d29-58fc34505d6c",
   "metadata": {},
   "outputs": [],
   "source": [
    "print_any_number_of_inputs(1)"
   ]
  },
  {
   "cell_type": "code",
   "execution_count": null,
   "id": "cb9b0af0-d538-4845-88a0-86150dfd9d0e",
   "metadata": {},
   "outputs": [],
   "source": [
    "print_any_number_of_inputs(1, 2)"
   ]
  },
  {
   "cell_type": "code",
   "execution_count": null,
   "id": "76d8b418-0e4b-4073-abc7-e6b35d2a376c",
   "metadata": {},
   "outputs": [],
   "source": [
    "print_any_number_of_inputs(1, 2, 3, 4, 5, 6)"
   ]
  },
  {
   "cell_type": "markdown",
   "id": "ecbc9bee-b1f9-40c3-a8bd-386e192cd331",
   "metadata": {},
   "source": [
    "### Outputs\n",
    "\n",
    "A Python function can also have multiple outputs. For example, we can write the function:"
   ]
  },
  {
   "cell_type": "code",
   "execution_count": null,
   "id": "e3fe05bd-6fba-48cb-986d-1b15dc652531",
   "metadata": {},
   "outputs": [],
   "source": [
    "def calculate_sum_and_difference(number1, number2):\n",
    "    sum_of_numbers = number1 + number2\n",
    "    difference_of_numbers = abs(number1 - number2)\n",
    "\n",
    "    return sum_of_numbers, difference_of_numbers"
   ]
  },
  {
   "cell_type": "markdown",
   "id": "1e8b6a28-9682-4ca6-afc7-76c5eb19ed0a",
   "metadata": {},
   "source": [
    "If we assign the result of calling this function to a single variable, we'll get a tuple with two elements (each corresponding to one of the outputs)."
   ]
  },
  {
   "cell_type": "code",
   "execution_count": null,
   "id": "dc27d266-05e5-4a87-a033-5a594ccf298d",
   "metadata": {},
   "outputs": [],
   "source": [
    "result = calculate_sum_and_difference(3, 4)\n",
    "print(type(result))\n",
    "print(result)"
   ]
  },
  {
   "cell_type": "markdown",
   "id": "b86eab65-a2ec-486e-ac39-3bdab41500c2",
   "metadata": {},
   "source": [
    "Alternatively, we can unpack the tuple directly into individual variables."
   ]
  },
  {
   "cell_type": "code",
   "execution_count": null,
   "id": "458dcdf7-58de-4f42-a828-6df70a7d2f0a",
   "metadata": {},
   "outputs": [],
   "source": [
    "sum_of_numbers, difference_of_numbers = calculate_sum_and_difference(3, 4)\n",
    "print(type(sum_of_numbers))\n",
    "print(sum_of_numbers)\n",
    "print(type(difference_of_numbers))\n",
    "print(difference_of_numbers)"
   ]
  },
  {
   "cell_type": "markdown",
   "id": "856db7fb-cfc5-45dc-9aaf-713b5cec3301",
   "metadata": {},
   "source": [
    "### Exercise 2\n",
    "\n",
    "1. Write a function that takes two lists as inputs and returns the minimum and maximum number found in either list. i.e find_min_max([1, 2], [3, 4]) should return (1, 4). \n",
    "\n",
    "2. Modify your code so that it can take *any* number of lists as input, finding the minimum and maximum across all inputs.\n"
   ]
  },
  {
   "cell_type": "code",
   "execution_count": 38,
   "id": "20e70e36",
   "metadata": {},
   "outputs": [
    {
     "data": {
      "text/plain": [
       "(0, 9)"
      ]
     },
     "execution_count": 38,
     "metadata": {},
     "output_type": "execute_result"
    }
   ],
   "source": [
    "def get_minmax_of_two_lists(*lists):\n",
    "    biglist = [num for lst in lists for num in lst]\n",
    "    return min(biglist), max(biglist)\n",
    "    \n",
    "\n",
    "get_minmax_of_two_lists([1,2],[3,4],[0,9])"
   ]
  },
  {
   "cell_type": "markdown",
   "id": "87afd1f2-57cf-4ec1-851b-f90cdfdb724f",
   "metadata": {},
   "source": [
    "## Function Scope\n",
    "\n",
    "Any variables or parameters created inside a function are *local*. This means they cannot be accessed outside of the function. For example, the following code will give an error:\n"
   ]
  },
  {
   "cell_type": "code",
   "execution_count": null,
   "id": "f05a8cfa-d227-4c1c-a2a9-29e0d28875e8",
   "metadata": {},
   "outputs": [],
   "source": [
    "def absolute_value(number):\n",
    "    if number < 0:\n",
    "        return -number\n",
    "    return number\n",
    "\n",
    "result = absolute_value(5)\n",
    "print(number)"
   ]
  },
  {
   "cell_type": "markdown",
   "id": "9bba454d-dde8-4abb-9a8d-d78ef0fe4d49",
   "metadata": {},
   "source": [
    "This is because the variable 'number' is not defined in the global scope- it's only defined within the local scope of the function. The same idea applies across functions. For example:"
   ]
  },
  {
   "cell_type": "code",
   "execution_count": null,
   "id": "9609519e-4212-4b55-a4a0-b5e31cf57de7",
   "metadata": {},
   "outputs": [],
   "source": [
    "def negate(number_to_negate):\n",
    "    return -number_to_negate\n",
    "\n",
    "def add_two_positive_values(n1, n2):\n",
    "\n",
    "    if n1 < 0:\n",
    "        n1 = negate(number_to_negate)\n",
    "\n",
    "    if n2 < 0:\n",
    "        n2 = negate(number_to_negate)\n",
    "\n",
    "    return n1+n2\n",
    "\n",
    "add_two_positive_values(-3, 5)"
   ]
  },
  {
   "cell_type": "markdown",
   "id": "44c06aa8-8a72-4ce6-9578-f7fef54f41c0",
   "metadata": {},
   "source": [
    "The code above gives an error because each function gets its *own* local scope. Variables defined in one function are not available to other functions. An advantage of this, is that we can use the same variable name within multiple different functions and won't get an error. For example:"
   ]
  },
  {
   "cell_type": "code",
   "execution_count": null,
   "id": "56d83a3a-410a-4338-9975-bf346beef373",
   "metadata": {},
   "outputs": [],
   "source": [
    "def add_two_numbers(number1, number2):\n",
    "    print(\"Number 1 is\", number1, \"number 2 is\", number2)\n",
    "    return number1 + number2\n",
    "\n",
    "def subtract_two_numbers(number1, number2):\n",
    "    print(\"Number 1 is\", number1, \"number 2 is\", number2)\n",
    "    return number1 - number2\n",
    "\n",
    "def multiply_two_numbers(number1, number2):\n",
    "    print(\"Number 1 is\", number1, \"number 2 is\", number2)\n",
    "    return number1 * number2\n",
    "\n",
    "number1 = 9\n",
    "number2 = 3\n",
    "print(\"Add\")\n",
    "print(add_two_numbers(1, 2))\n",
    "print(\"Subtract\")\n",
    "print(subtract_two_numbers(4, 3))\n",
    "print(\"Multiply\")\n",
    "print(multiply_two_numbers(3, 5))\n",
    "print(\"Numbers in global\")\n",
    "print(\"Number 1 is\", number1, \"number 2 is\", number2)\n",
    "\n"
   ]
  },
  {
   "cell_type": "markdown",
   "id": "d7ef888e-6206-4b17-ae3e-3f652dc5ef65",
   "metadata": {},
   "source": [
    "Functions can however access variables defined in the global scope. The following code should run without errors:"
   ]
  },
  {
   "cell_type": "code",
   "execution_count": null,
   "id": "61592c20-6b68-4f77-b4f2-26fe65d7e605",
   "metadata": {},
   "outputs": [],
   "source": [
    "min_number = 5\n",
    "\n",
    "def calculate_range(max_number):\n",
    "    print(\"Range is: \", max_number-min_number)\n",
    "\n",
    "calculate_range(10)"
   ]
  },
  {
   "cell_type": "markdown",
   "id": "aa8dc91a-78c0-41f1-baed-930dfcfe4092",
   "metadata": {},
   "source": [
    "This is because the variable \"min_number\" has been defined in the global scope, and so can be accessed from the function. When looking for a variable, Python will *first* check the local scope of the function and then if it's not found there, it will check the global scope. Two important things to note- \n",
    "\n",
    "1. Writing functions like this is in general a bad idea- the result of the function depends on the *state* of the program (i.e what the function returns will change if min_number is re-assigned). This makes the code hard to reason about and is a source of bugs. I'm including it here as an example, but in general you should not be doing this.\n",
    "2. If we create a variable anywhere in the local scope, it will override the value from the global scope. The following code will produce an error:\n",
    "   "
   ]
  },
  {
   "cell_type": "code",
   "execution_count": null,
   "id": "df2c0531-acfd-4492-9ccd-b1f4bfc11e3c",
   "metadata": {},
   "outputs": [],
   "source": [
    "min_number = 5\n",
    "\n",
    "def calculate_range(max_number):\n",
    "    print(\"Range is: \", max_number-min_number)\n",
    "    min_number = 2\n",
    "\n",
    "calculate_range(10)"
   ]
  },
  {
   "cell_type": "markdown",
   "id": "72779549-8f13-40c4-92d7-40fbec8a8d05",
   "metadata": {},
   "source": [
    "Here, we get an error because Python has determined that min_number is local, but we try to use it before it is assigned a value (in the local scope). Even though it's already been defined and assigned a value in the global scope, as far as Python is concerned that's a totally different variable."
   ]
  },
  {
   "cell_type": "markdown",
   "id": "0a167c53-8547-42f7-8c95-82c88773f832",
   "metadata": {},
   "source": [
    "To recap, variables defined within a function are only accessible to that function- we can use the same variable name in multiple functions (and in global scope) simultaneously. Python will treat these variables are three different things, even though they have the same name. You may want to try using the Python code visualiser <a href=https://pythontutor.com/render.html#mode=display>here</a> to see how this works in action."
   ]
  },
  {
   "cell_type": "markdown",
   "id": "d8e93a78-d0de-4f1a-ac18-025325b278e2",
   "metadata": {},
   "source": [
    "### Exercise 3\n",
    "\n",
    "When you choose a password for a website, they often impose a number of restrictions on your choice- i.e. it must over 8 letters and contain a mix of lower and upper case letters and numbers. Write a function to test whether a given password is valid or not. Your function should take 1 positional argument (the password we are checking) and 4 optional arguments. These are:\n",
    "\n",
    "- mininum_length (defaults to 10)\n",
    "- minimum_numbers (defaults to one) - this is the minimum number of digits required.\n",
    "- minimum_lower (defaults to one) - this is the minimum number of lower case letters required.\n",
    "- minimum_upper (defaults to one) - this is the minimum number of upper case letters required.\n",
    "\n",
    "Your function should return *True* if the password is valid. If it's not valid, it should return *False* **and** a string explaining why the password is not valid. If a password fails multiple conditions, you only need to return a string for one of them.\n",
    "\n",
    "For example, I would expect the following results if I called your function:\n",
    "\n",
    "- check_password_validity(\"Banana9\") returns (False, \"Password must have at least 10 characters\")\n",
    "- check_password_validity(\"Banana9\", 6) returns True\n",
    "- check_password_validity(\"Banananana\") returns (False, \"Password must have 1 number\")\n",
    "- check_password_validity(\"banananana\") returns (False, \"Password must have 1 upper case character\")\n",
    "- check_password_validity(\"Banananana9\") returns True\n",
    "- check_password_validity(\"Banananana9\", minimum_upper=2) returns (False, \"Password must have 2 upper case characters\")\n"
   ]
  },
  {
   "cell_type": "code",
   "execution_count": 70,
   "id": "7d29246f",
   "metadata": {},
   "outputs": [
    {
     "data": {
      "text/plain": [
       "'False Password must have at least 10 characters!'"
      ]
     },
     "execution_count": 70,
     "metadata": {},
     "output_type": "execute_result"
    }
   ],
   "source": [
    "def num_of_upper(password):\n",
    "    return len([i for i in password if i.isupper()])\n",
    "\n",
    "def num_of_digits(password):\n",
    "    return len([i for i in password if i.isdigit()])\n",
    "\n",
    "\n",
    "def check_password_validity(password,minimum_length=10, minimum_numbers=1, minimum_upper=1,minimum_lower=1):\n",
    "    is_valid_password = True\n",
    "    error_message = \"\"\n",
    "    # Check password has at least minimum_length characters\n",
    "    if len(password) < minimum_length:\n",
    "        is_valid_password = False\n",
    "        error_message = f\" Password must have at least {minimum_length} characters!\"\n",
    "    # Check password has minimum number of numbers\n",
    "    elif num_of_digits(password) < minimum_numbers:\n",
    "        is_valid_password = False\n",
    "        error_message = f\" Password must have at least {minimum_numbers} number/s\"\n",
    "    # Check password has minimum upper case letters\n",
    "    elif num_of_upper(password) < minimum_upper:\n",
    "        is_valid_password = False\n",
    "        error_message = f\" Password must have at least {minimum_upper} upper case character/s!\"\n",
    "    # Check password has minimum lower case letters\n",
    "    elif len(password)-num_of_upper(password) < minimum_lower:\n",
    "        is_valid_password = False\n",
    "        error_message = f\" Password must have at least {minimum_lower} lower case character/s\"\n",
    "    return str(is_valid_password) + error_message\n",
    "\n",
    "check_password_validity(\"Banana9\")\n"
   ]
  },
  {
   "cell_type": "markdown",
   "id": "0dcaec93-4ff6-4835-abd6-ccef9447def2",
   "metadata": {},
   "source": [
    "### Exercise 4 - Refactoring Exercise"
   ]
  },
  {
   "cell_type": "markdown",
   "id": "87ed14c4-c46b-429c-9cbc-28bc0a724b9d",
   "metadata": {},
   "source": [
    "As part of the administration of this course, you are all assigned to groups. This allocation is done via an excel spreadsheet that gives us a list of student ids. However, when it comes to assigning your TA, this list isn't very helpful as we want the TAs to know you by name rather than ID. Another file contains a listing of the student name associated with each id. To solve this problem, I wrote the code below. It reads the two files and makes a new file which lists the names of everybody in each group. Note- this may not work too well in Google collab, so I strongly recommend you copy and paste this code into a text editor and run it from the terminal.\n"
   ]
  },
  {
   "cell_type": "code",
   "execution_count": null,
   "id": "3b017019-0af2-468d-af8d-3eb3524535f8",
   "metadata": {},
   "outputs": [
    {
     "name": "stdout",
     "output_type": "stream",
     "text": [
      "{'j123': 'James', 'j234': 'Joe', 's498': 'Sam', 'm345': 'Megan'}\n",
      "{1: ['James', 'Sam'], 2: ['Joe', 'Megan']}\n"
     ]
    }
   ],
   "source": [
    "Names_and_ids = \"names_and_ids.txt\"\n",
    "Groups_and_ids = \"groups_and_ids.txt\"\n",
    "Output_file = \"groups_with_names.txt\"\n",
    "\n",
    "\n",
    "\n",
    "def read_names_and_ids(file_path):\n",
    "\t\"\"\"\n",
    "\tReads file that links names and ids. It then returns a dictionary of the form (id:name)\n",
    "\t\"\"\"\n",
    "\tnames_from_ids = dict()\n",
    "\twith open(file_path, 'r') as names_and_ids_file:\n",
    "\t\tfor line in names_and_ids_file:\n",
    "\t\t\tname, id = (line.split(','))\n",
    "\n",
    "\t\t\tnames_from_ids[id.strip('\\n')] = name\n",
    "\tprint(names_from_ids)\n",
    "\treturn names_from_ids\n",
    "\n",
    "\n",
    "def read_groups_and_ids(file_path, names_from_ids):\n",
    "\t\"\"\"\n",
    "\tReads file that links groups and ids.\n",
    "\tIt then connects the id to the name using the names_from_ids dictionary.\n",
    "\tIt then returns a dictionary of the form (group_num:[names]).\n",
    "\t\"\"\"\n",
    "\tgroups = dict()\n",
    "\twith open(file_path, 'r') as groups_and_ids_file:\n",
    "\t\tfor line in groups_and_ids_file:\n",
    "\t\t\tid_number, group = (line.split(','))\n",
    "\t\t\tgroup = int(group)\n",
    "\t\n",
    "\t\t\tif group not in groups:\n",
    "\t\t\t\tgroups[group] = [names_from_ids[id_number]]\n",
    "\t\t\telse:\n",
    "\t\t\t\tgroups[group].append(names_from_ids[id_number])\n",
    "\tprint(groups)\n",
    "\treturn groups\n",
    "\n",
    "\n",
    "def write_groups_and_names(file_path, groups):\n",
    "\t\"\"\"\n",
    "\tWrites the groups and names into file_path.\n",
    "\t\"\"\"\n",
    "\twith open(file_path, 'w') as f:\n",
    "\t\tfor g in range(1, 3):\n",
    "\t\t\tstring_to_write = str(g) + ','\n",
    "\t\t\tfor name in groups[g]:\n",
    "\t\t\t\tstring_to_write += name + ','\n",
    "\t\t\tf.write(string_to_write + '\\n')\n",
    "\n",
    "\n",
    "\n",
    "\n",
    "def main():\n",
    "\tnames_and_ids = \"names_and_ids.txt\"\n",
    "\tgroups_and_ids = \"groups_and_ids.txt\"\n",
    "\toutput_file = \"groups_with_names.txt\"\n",
    "\n",
    "\tnames_from_ids = read_names_and_ids(names_and_ids)\n",
    "\tgroups = read_groups_and_ids(groups_and_ids, names_from_ids)\n",
    "\twrite_groups_and_names(output_file, groups)\n",
    "\n",
    "main()\n"
   ]
  },
  {
   "cell_type": "markdown",
   "id": "41a216ec-3d08-4b4d-98b5-a441684ed4f7",
   "metadata": {},
   "source": [
    "The code works as intended, but is hard to read- there's no functions, no comments, and many violations of the unit style guide. Please refactor this code to improve readability. As you're refactoring, make sure to keep checking that you haven't changed the output."
   ]
  },
  {
   "cell_type": "markdown",
   "id": "d5eeb099-6ccd-43b7-a673-d043c5099e73",
   "metadata": {},
   "source": [
    "## Recursion\n",
    "\n",
    "Functions can call other functions- including themselves. It's perfectly valid Python to write:\n",
    "\n",
    "```python\n",
    "\n",
    "def my_function(arg1):\n",
    "    print(arg1)\n",
    "    my_function(arg1)\n",
    "\n",
    "my_function(1)\n",
    "```\n",
    "\n",
    "Functions that call themselves are known as *recursive functions*. I don't recommend trying to run the code above however-the function will keep calling itself forever (or in practice, until you run hit the *recursion limit* set by Python.\n",
    "\n",
    "Recursive functions **can** be useful however, if they are written correctly. A proper recursive function should have:\n",
    "\n",
    "1. A base case. This defines a subset of inputs which don't require further recursion- if these inputs are encountered, the function should instead return something.\n",
    "2. A recursive case. This defines what the function should do with inputs that aren't base cases. This should end with a recursive call (i.e calling the function from within itself), with a different input.\n",
    "\n",
    "The classic example of a recursive function is calculating the factorial of a number. We can write a function to calculate the factorial of a number as follows:"
   ]
  },
  {
   "cell_type": "code",
   "execution_count": null,
   "id": "f10ee122-4fe4-4f84-8501-b9a625bd49d6",
   "metadata": {},
   "outputs": [],
   "source": [
    "def factorial(n):\n",
    "\n",
    "    if n == 1:\n",
    "        return 1\n",
    "    else:\n",
    "        return n * factorial(n-1)\n",
    "\n",
    "print(factorial(1))\n",
    "print(factorial(2))\n",
    "print(factorial(3))\n",
    "print(factorial(4))"
   ]
  },
  {
   "cell_type": "markdown",
   "id": "5865367f-82a7-41b7-a35f-62aab715c503",
   "metadata": {},
   "source": [
    "Here, the first part of the if statement handles the base case, and the second part handles the recursive case. The recursive call is factioral(n-1). It is of course possible to write a function that calculates the factorial of a number without recursion. We could for example, write:"
   ]
  },
  {
   "cell_type": "code",
   "execution_count": null,
   "id": "31cb9188-4cd7-4c79-a47c-007d2a96961b",
   "metadata": {},
   "outputs": [],
   "source": [
    "def factorial_without_recursion(n):\n",
    "\n",
    "    answer = n\n",
    "    while n > 1:\n",
    "        n = n-1\n",
    "        answer *= n\n",
    "\n",
    "    return answer\n",
    "\n",
    "print(factorial(1))\n",
    "print(factorial(2))\n",
    "print(factorial(3))\n",
    "print(factorial(4))"
   ]
  },
  {
   "cell_type": "markdown",
   "id": "3ac07464-a6bc-40ba-a04e-08f70186920e",
   "metadata": {},
   "source": [
    "In general, any problem that can be solved with recursion can also be solved with (possibly nested) loops. So when should we use recursion and when should we not? In part, this choice will come down to which solution runs more *efficiently* i.e in less time or using less memory, and in part, it will depend on *readability*. Going into the details of which approach is more efficient for which classes of problems is beyond the scope of this course, so we'll only think about readability. \n",
    "\n",
    "Personally, I think recursive functions are harder to reason about than non-recursive functions, so my rule of thumb is to use a non-recursive function if I can. However, if a problem has something that feels naturally recursive (i.e it maps nicely to the base case / recursive case pattern), then I'd prefer recursion. In practice, there are a relatively small number of (often quite important) problems that naturally map this way. We'll see one of these (searching) later in the course."
   ]
  },
  {
   "cell_type": "markdown",
   "id": "7a41a36e-29c6-4773-a792-736ba43cde72",
   "metadata": {},
   "source": [
    "### Exercise 5 - Recursive Functions. \n",
    "\n",
    "Solve all tasks below using recursion.\n",
    "\n",
    "1. The Fibonacci sequence is defined as $F(n) = F(n-1) * F(n-2)$, with F(1) = 1 and F(2) = 1. Write a function to calculate Fibonacci numbers.\n",
    "   \n",
    "2. Given a list of data, we often want to know if a certain value is contained in the list. A naive solution to this problem loops through the entire list, checking to see if each element is a match. If the list of data is ordered, then we can do better than this- rather than checking every value, we start by checking the middle value. If this is a match, we're done. If the middle value is less than the value we're looking for, then we search only the first-half of the list. If the middle value is greater, then we search the second-half instead. This sort of search algorithm is known as *binary* search, because we're splitting the list into two at each level. Write a function to implement binary search for integers. It should take a list of integers and a target as inputs and return True if and only if the target is in the list. Otherwise, it should return False.\n",
    "\n",
    "4. A palindrome is a word or phrase which reads the same forward as it does backwards- i.e \"level\" and \"nurses run\" are both palindromes. Write a recursive function which takes a string as input and returns True if and only if the string is a palindrome.\n"
   ]
  },
  {
   "cell_type": "markdown",
   "id": "c5f4135a-2beb-4176-b1c6-fe94824ef325",
   "metadata": {},
   "source": [
    "### Bonus Exercise\n",
    "\n",
    "I was initially going to do this question for exercise 3, but changed my mind. It's entirely optional, but I've included it here rather than just delete it. \n",
    "\n",
    "A mass is thrown upwards with speed $v_0 = 10$ m/s.  The equation for the height at time t\n",
    "is given by\n",
    "$$\n",
    "h(t) = v_0 t - \\frac{1}{2}\\, g t^2,\n",
    "$$\n",
    "where $t$ is time and $g = 9.8$ m/s$^2$ is the gravitational acceleration.\n",
    "\n",
    "The function below will calculate the height of the mass at a given time."
   ]
  },
  {
   "cell_type": "code",
   "execution_count": 1,
   "id": "1e835cb5-162d-4c31-8fa3-3292ed94d5a7",
   "metadata": {},
   "outputs": [
    {
     "name": "stdout",
     "output_type": "stream",
     "text": [
      "5.1\n"
     ]
    }
   ],
   "source": [
    "def height_of_mass(t):\n",
    "    gravity = 9.8\n",
    "    v0 = 10\n",
    "\n",
    "    height = v0*t - (0.5 * gravity * t**2)\n",
    "    \n",
    "    return height\n",
    "\n",
    "print(height_of_mass(1))"
   ]
  },
  {
   "cell_type": "markdown",
   "id": "752a2302-72e7-4353-8e8e-b74fcc2f71fc",
   "metadata": {},
   "source": [
    "1. Modify the function to accept three inputs:\n",
    "\n",
    "    A. time (mandatory)\n",
    "\n",
    "   \n",
    "    B. mass (optional, with default value of 1)\n",
    "\n",
    "   \n",
    "    C. gravity (optional, with default value of 9.8\n",
    "\n",
    "2. Modify the function to also calculate and return the potential energy of the ball at time t.\n",
    "\n",
    "3. Write a second function that calls the height of mass function for values of t in the range [0, 3], with a step of 0.1. Store the outputs in two lists (one for the heights, and one for the potential energies). Use matplotlib to create a single plot showing height vs time and potential energy vs time. Then create a second plot showing what would happen if the ball was thrown on Mars (use gravity on mars = 3.73 $kg/m^2$. Your plot should look like the image below. Think carefully about how many (and which) functions you should use for this exercise and remember the rule of thumb: a function should do one thing.\n",
    "\n",
    "<img src=\"https://github.com/engmaths/SEMT10002_2024/blob/main/img/BallHeight.png?raw=true\" width=\"40%\">\n",
    "\n",
    "4. (Bonus) Currently our solution continues to calculate values even when the height of the ball has gone below zero (i.e it's hit the ground). Modify the code to stop calculating results when the height of the ball goes below zero. These changes shouldn't break the code you've written previously!\n",
    "\n"
   ]
  },
  {
   "cell_type": "code",
   "execution_count": null,
   "id": "b8c9dd3d-d541-4ce9-acda-f311a04ef4e4",
   "metadata": {},
   "outputs": [],
   "source": []
  }
 ],
 "metadata": {
  "kernelspec": {
   "display_name": "Python 3",
   "language": "python",
   "name": "python3"
  },
  "language_info": {
   "codemirror_mode": {
    "name": "ipython",
    "version": 3
   },
   "file_extension": ".py",
   "mimetype": "text/x-python",
   "name": "python",
   "nbconvert_exporter": "python",
   "pygments_lexer": "ipython3",
   "version": "3.13.0"
  }
 },
 "nbformat": 4,
 "nbformat_minor": 5
}
