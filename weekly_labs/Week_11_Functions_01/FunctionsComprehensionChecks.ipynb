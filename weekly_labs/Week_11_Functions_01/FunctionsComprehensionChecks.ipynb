{
 "cells": [
  {
   "cell_type": "markdown",
   "id": "1ccc7c0e-b3aa-49e6-89a4-e800471a2726",
   "metadata": {},
   "source": [
    "The following code snippets are for you to check your understanding of the pre-watch lecture material. For each block of code, first *predict* what the output will be. Note that outputs may include errors or no output. Then run the code and compare your prediction to the output. If they don't match, you can:\n",
    "\n",
    "- Play around with the code to get a better idea of what's happening.\n",
    "- Review the pre-watch videos.\n",
    "- Read the written content in the lab sheet.\n",
    "- Ask someone else in your group.\n",
    "- Ask your TA.\n",
    "\n",
    "## Function Comprehrension Checks"
   ]
  },
  {
   "cell_type": "code",
   "execution_count": 2,
   "id": "0f5a6a73-3032-49c6-adac-8374db60bfdc",
   "metadata": {},
   "outputs": [
    {
     "name": "stdout",
     "output_type": "stream",
     "text": [
      "GOOD MORNING BRISTOL!!!\n"
     ]
    }
   ],
   "source": [
    "def print_with_exclamations(message):\n",
    "    message = message.upper()\n",
    "    print(message + \"!!!\")\n",
    "\n",
    "\n",
    "print_with_exclamations(\"good morning bristol\")"
   ]
  },
  {
   "cell_type": "code",
   "execution_count": null,
   "id": "231370f2-bc73-49a3-b970-a5d1ea873145",
   "metadata": {},
   "outputs": [],
   "source": [
    "def print_with_exclamations(message):\n",
    "    message = message.upper()\n",
    "    print(message + \"!!!\")\n",
    "\n",
    "print_with_exclamations(\"Hello\")"
   ]
  },
  {
   "cell_type": "code",
   "execution_count": null,
   "id": "669357cb-490e-4788-bd62-4c0e6d6c59ff",
   "metadata": {},
   "outputs": [],
   "source": [
    "def print_with_exclamations(message):\n",
    "message = message.upper()\n",
    "print(message + \"!!!\")\n",
    "\n",
    "print_with_exclamations(\"Hello\")"
   ]
  },
  {
   "cell_type": "code",
   "execution_count": null,
   "id": "29246647-590d-42ab-8a7c-3c3d0512604f",
   "metadata": {},
   "outputs": [],
   "source": [
    "def print_with_exclamations(message):\n",
    "    message = message.upper()\n",
    "print(message + \"!!!\")\n",
    "\n",
    "print_with_exclamations(\"Hello\")"
   ]
  },
  {
   "cell_type": "code",
   "execution_count": null,
   "id": "e3a0f20a-e4b7-4976-9bbd-ea4e0ab1d141",
   "metadata": {},
   "outputs": [],
   "source": [
    "def print_with_exclamations(message):\n",
    "    message = message.upper()\n",
    "    print(message + \"!!!\")\n",
    "\n",
    "print_with_exclamations(5)"
   ]
  },
  {
   "cell_type": "code",
   "execution_count": null,
   "id": "51d522b6-35f0-4374-94f3-33d56cb50e05",
   "metadata": {},
   "outputs": [],
   "source": [
    "def print_with_exclamations(message):\n",
    "    message = message.upper()\n",
    "    print(message + \"!!!\")\n",
    "\n",
    "print_with_exclamations()"
   ]
  },
  {
   "cell_type": "code",
   "execution_count": null,
   "id": "4a8f3633-a741-43d4-ac40-03bd075a8323",
   "metadata": {},
   "outputs": [],
   "source": [
    "def print_with_exclamations(message=\"Hello\"):\n",
    "    message = message.upper()\n",
    "    print(message + \"!!!\")\n",
    "\n",
    "print_with_exclamations(\"Hi\")"
   ]
  },
  {
   "cell_type": "code",
   "execution_count": null,
   "id": "ca99b610-5c6a-48a0-9283-7f00f14a2580",
   "metadata": {},
   "outputs": [],
   "source": [
    "def print_with_exclamations(message=\"Hello\"):\n",
    "    message = message.upper()\n",
    "    print(message + \"!!!\")\n",
    "\n",
    "print_with_exclamations()"
   ]
  },
  {
   "cell_type": "code",
   "execution_count": null,
   "id": "8459ace6-4251-403f-9703-ebb83393eae5",
   "metadata": {},
   "outputs": [],
   "source": [
    "def print_with_exclamations(message, number):\n",
    "    message = message.upper()\n",
    "    for i in range(number):\n",
    "        message += \"!\"\n",
    "\n",
    "    print(message)\n",
    "    \n",
    "print_with_exclamations(\"Hi\", 2)"
   ]
  },
  {
   "cell_type": "code",
   "execution_count": null,
   "id": "251b3533-8aa5-4705-81c2-c4a5dd8d5aac",
   "metadata": {},
   "outputs": [],
   "source": [
    "def calculate_numbers(a, b, c=1, d=4):\n",
    "    return (a*b)-(c*d)\n",
    "\n",
    "calculate_numbers(1, 2, 3, 4)"
   ]
  },
  {
   "cell_type": "code",
   "execution_count": null,
   "id": "b3f72ec7-6d86-4f33-8e2e-d9d8f01d6ca3",
   "metadata": {},
   "outputs": [],
   "source": [
    "def calculate_numbers(a, b, c=1, d):\n",
    "    return (a*b)-(c*d)\n",
    "\n",
    "calculate_numbers(1, 2, 3, 4)"
   ]
  },
  {
   "cell_type": "code",
   "execution_count": null,
   "id": "68956ce8-4ede-4efc-b507-8c7a472f8693",
   "metadata": {},
   "outputs": [],
   "source": [
    "def calculate_numbers(a, b, c=1, d=4):\n",
    "    return (a*b)-(c*d)\n",
    "\n",
    "calculate_numbers(1, 2, 3)"
   ]
  },
  {
   "cell_type": "code",
   "execution_count": null,
   "id": "92cee185-d2d8-4419-8a1e-14f7b49539e5",
   "metadata": {},
   "outputs": [],
   "source": [
    "def calculate_numbers(a, b, c=1, d=4):\n",
    "    return (a*b)-(c*d)\n",
    "\n",
    "calculate_numbers(1, 2)"
   ]
  },
  {
   "cell_type": "code",
   "execution_count": null,
   "id": "cf30005e-a9c0-4b9b-9485-6930141c5dad",
   "metadata": {},
   "outputs": [],
   "source": [
    "def calculate_numbers(a, b, c=1, d=4):\n",
    "    return (a*b)-(c*d)\n",
    "\n",
    "calculate_numbers(1)"
   ]
  },
  {
   "cell_type": "code",
   "execution_count": null,
   "id": "dae4810a-f5aa-405c-b49b-94845efa35d8",
   "metadata": {},
   "outputs": [],
   "source": [
    "def calculate_numbers(a, b, c=1, d=4):\n",
    "    return (a*b)-(c*d)\n",
    "\n",
    "calculate_numbers(a=3, b=1)"
   ]
  },
  {
   "cell_type": "code",
   "execution_count": null,
   "id": "028b1bb2-f5da-4717-a7de-a34b0017e8b1",
   "metadata": {},
   "outputs": [],
   "source": [
    "def calculate_numbers(a, b, c=1, d=4):\n",
    "    return a*b*c*d\n",
    "\n",
    "calculate_numbers(b=3, a=1)"
   ]
  },
  {
   "cell_type": "code",
   "execution_count": null,
   "id": "a89c5f4b-5e82-4eaa-9823-646bde5f1773",
   "metadata": {},
   "outputs": [],
   "source": [
    "def calculate_numbers(a, b, c=1, d=4):\n",
    "    return a*b, c*d, (a*b)-(c*d)\n",
    "\n",
    "print(calculate_numbers(1, 2, 3, 4)[1])"
   ]
  },
  {
   "cell_type": "code",
   "execution_count": null,
   "id": "2fec6501-26ca-43c9-ae83-34cb7127af2c",
   "metadata": {},
   "outputs": [],
   "source": [
    "def calculate_numbers(a, b, c=1, d=4):\n",
    "    return a*b, c*d, (a*b)-(c*d)\n",
    "    \n",
    "ans1, ans2, diff = calculate_numbers(1, 2, 3, 4)\n",
    "print((ans1-ans2) / diff)"
   ]
  },
  {
   "cell_type": "code",
   "execution_count": null,
   "id": "4615b73a-3935-474b-8d5e-4abb3e96e700",
   "metadata": {},
   "outputs": [],
   "source": [
    "message = \"hello\"\n",
    "\n",
    "def capitalise_message(message):\n",
    "    \n",
    "    new_message = message[0].upper()\n",
    "    for letter in message[1:]:\n",
    "        new_message += letter\n",
    "    return message\n",
    "\n",
    "print(capitalise_message(message))"
   ]
  },
  {
   "cell_type": "code",
   "execution_count": null,
   "id": "010f43dd-ac41-45ce-81f9-e811756162c0",
   "metadata": {},
   "outputs": [],
   "source": [
    "message = \"hello\"\n",
    "\n",
    "def capitalise_message(message):\n",
    "    \n",
    "    new_message = message[0].upper()\n",
    "    for letter in message[1:]:\n",
    "        new_message += letter\n",
    "    return new_message\n",
    "\n",
    "print(capitalise_message(message))"
   ]
  },
  {
   "cell_type": "code",
   "execution_count": null,
   "id": "6c9f83e6-2840-46e0-8644-b25b67d663c9",
   "metadata": {},
   "outputs": [],
   "source": [
    "message = \"hello\"\n",
    "\n",
    "def capitalise_message(message):\n",
    "    \n",
    "    new_message = message[0].upper()\n",
    "    for letter in message[1:]:\n",
    "        new_message += letter\n",
    "    return new_message\n",
    "\n",
    "capitalise_message(message)\n",
    "print(new_message)"
   ]
  },
  {
   "cell_type": "code",
   "execution_count": null,
   "id": "150f5d93-b65b-41c8-8f25-c452f3c18592",
   "metadata": {},
   "outputs": [],
   "source": [
    "def negate_number(number):\n",
    "    print(x)\n",
    "    return -number\n",
    "\n",
    "x = 5\n",
    "result = negate_number(10)"
   ]
  },
  {
   "cell_type": "code",
   "execution_count": null,
   "id": "3254375d-2e02-485d-afc6-70ee1a162aa0",
   "metadata": {},
   "outputs": [],
   "source": [
    "def negate_number(number):\n",
    "    print(y)\n",
    "    return -number\n",
    "\n",
    "result = negate_number(10)\n",
    "y = 5"
   ]
  },
  {
   "cell_type": "code",
   "execution_count": null,
   "id": "c502ea47-f056-45f2-80ed-bc70ec45154f",
   "metadata": {},
   "outputs": [],
   "source": [
    "def negate_number(number):\n",
    "    y += 1\n",
    "    print(y)\n",
    "    return -number\n",
    "\n",
    "y = 5\n",
    "result = negate_number(10)\n"
   ]
  },
  {
   "cell_type": "code",
   "execution_count": null,
   "id": "434ba9e6-54a9-46b7-bfc3-41e9274b6575",
   "metadata": {},
   "outputs": [],
   "source": [
    "def negate_number(number):\n",
    "    global y\n",
    "    y += 1\n",
    "    print(y)\n",
    "    return -number\n",
    "\n",
    "y = 5\n",
    "result = negate_number(10)"
   ]
  },
  {
   "cell_type": "code",
   "execution_count": null,
   "id": "ad777da1-9990-4c10-acfc-ff65f1950eac",
   "metadata": {},
   "outputs": [],
   "source": [
    "max_number = 10\n",
    "\n",
    "def find_max_number(list_of_numbers):\n",
    "    max_number = 0\n",
    "    for number in list_of_numbers:\n",
    "        if number > max_number:\n",
    "            max_number = number\n",
    "\n",
    "    return max_number\n",
    "\n",
    "list_of_numbers = [1, 3, 5, 6, 10]\n",
    "max_number = find_max_number([1, 3, 5])\n",
    "print(max_number)"
   ]
  },
  {
   "cell_type": "code",
   "execution_count": null,
   "id": "1acaca84-663f-4b84-96c5-8a3afbabca6f",
   "metadata": {},
   "outputs": [],
   "source": [
    "max_number = 10\n",
    "\n",
    "def find_max_number(list_of_numbers):\n",
    "    print(max_number)\n",
    "    max_number = 5\n",
    "    for number in list_of_numbers:\n",
    "        if number > max_number:\n",
    "            max_number = number\n",
    "\n",
    "    return max_number\n",
    "\n",
    "list_of_numbers = [1, 3, 5, 6, 10]\n",
    "max_number = find_max_number([1, 3, 5])\n",
    "print(max_number)"
   ]
  },
  {
   "cell_type": "code",
   "execution_count": null,
   "id": "665d756f-96e3-445a-a86e-a0e048e61b79",
   "metadata": {},
   "outputs": [],
   "source": [
    "min_number = 10\n",
    "\n",
    "def find_max_number(list_of_numbers):\n",
    "    print(min_number)\n",
    "    max_number = 5\n",
    "    for number in list_of_numbers:\n",
    "        if number > max_number:\n",
    "            max_number = number\n",
    "\n",
    "    return max_number\n",
    "\n",
    "list_of_numbers = [1, 3, 5, 6, 10]\n",
    "max_number = find_max_number([1, 3, 5])\n",
    "print(max_number)"
   ]
  }
 ],
 "metadata": {
  "kernelspec": {
   "display_name": "Python 3",
   "language": "python",
   "name": "python3"
  },
  "language_info": {
   "codemirror_mode": {
    "name": "ipython",
    "version": 3
   },
   "file_extension": ".py",
   "mimetype": "text/x-python",
   "name": "python",
   "nbconvert_exporter": "python",
   "pygments_lexer": "ipython3",
   "version": "3.13.0"
  }
 },
 "nbformat": 4,
 "nbformat_minor": 5
}
